{
 "cells": [
  {
   "cell_type": "markdown",
   "metadata": {},
   "source": [
    "# Ислледование продаж интернет-магазина компьютерных игр \"Стримчик\""
   ]
  },
  {
   "cell_type": "markdown",
   "metadata": {},
   "source": [
    "**Описание исследования**<br>\n",
    "Вы работаете в интернет-магазине «Стримчик», который продаёт по всему миру компьютерные игры. Из открытых источников доступны исторические данные о продажах игр, оценки пользователей и экспертов, жанры и платформы (например, Xbox или PlayStation).\n",
    "\n",
    "**Цель исследования**<br>\n",
    "Нужно выявить определяющие успешность игры закономерности. Это позволит сделать ставку на потенциально популярный продукт и спланировать рекламные кампании.\n",
    "\n",
    "**Задачи исследования**<br>\n",
    "Перед вами данные до 2016 года. Представим, что сейчас декабрь 2016 г., и вы планируете кампанию на 2017-й. Нужно отработать принцип работы с данными. Неважно, прогнозируете ли вы продажи на 2017 год по данным 2016-го или же 2027-й — по данным 2026 года.<br>\n",
    "В наборе данных попадается аббревиатура ESRB (Entertainment Software Rating Board) — это ассоциация, определяющая возрастной рейтинг компьютерных игр. ESRB оценивает игровой контент и присваивает ему подходящую возрастную категорию, например, «Для взрослых», «Для детей младшего возраста» или «Для подростков».\n",
    "\n",
    "**Исходные данные**<br>\n",
    "Путь к файлу: /datasets/games.csv\n",
    "\n",
    "Name — название игры <br>\n",
    "Platform — платформа<br>\n",
    "Year_of_Release — год выпуска<br>\n",
    "Genre — жанр игры<br>\n",
    "NA_sales — продажи в Северной Америке (миллионы проданных копий)<br>\n",
    "EU_sales — продажи в Европе (миллионы проданных копий)<br>\n",
    "JP_sales — продажи в Японии (миллионы проданных копий)<br>\n",
    "Other_sales — продажи в других странах (миллионы проданных копий)<br>\n",
    "Critic_Score — оценка критиков (максимум 100)<br>\n",
    "User_Score — оценка пользователей (максимум 10)<br>\n",
    "Rating — рейтинг от организации ESRB (англ. Entertainment Software Rating Board). Эта ассоциация определяет рейтинг компьютерных игр и присваивает им подходящую возрастную категорию."
   ]
  },
  {
   "cell_type": "markdown",
   "metadata": {},
   "source": [
    "***План работы:***\n",
    "\n",
    "1. Открыть файл с данными и изучите общую информацию<br>\n",
    "2. Подготовить данные<br>\n",
    "    2.1. Заменить названия столбцов<br>\n",
    "    2.2. Преобразуйте данные в нужные типы<br>\n",
    "    2.3. Обработайте пропуски при необходимости<br>\n",
    "    2.4. Посчитать суммарные продажи во всех регионах и записать их в отдельный столбец<br>\n",
    "3. Провести исследовательский анализ данных<br>\n",
    "    3.1. Посмотреть, сколько игр выпускалось в разные годы<br>\n",
    "    3.2. Посмотреть, как менялись продажи по платформам<br>\n",
    "    3.3. Взять данные за соответствующий актуальный период<br>\n",
    "    3.4. Выбрать несколько потенциально прибыльных платформ<br>\n",
    "    3.5. Построить график «ящик с усами» по глобальным продажам игр в разбивке по платформам<br>\n",
    "    3.6. Посмотреть, как влияют на продажи внутри одной популярной платформы отзывы пользователей и критиков<br>\n",
    "    3.7. Посмотреть на общее распределение игр по жанрам<br>\n",
    "4. Составить портрет пользователя каждого региона<br>\n",
    "    4.1. Определите для пользователя каждого региона самые популярные платформы (топ-5)<br>\n",
    "    4.2. Самые популярные жанры (топ-5)<br>\n",
    "    4.3. Влияет ли рейтинг ESRB на продажи в отдельном регионе?<br>\n",
    "5. Проверить гипотезы<br>\n",
    "    5.1. Средние пользовательские рейтинги платформ Xbox One и PC одинаковые<br>\n",
    "    5.2. Средние пользовательские рейтинги жанров Action и Sports разные<br>\n",
    "6. Написать общий вывод<br>"
   ]
  },
  {
   "cell_type": "markdown",
   "metadata": {},
   "source": [
    "### Открыть файл с данными и изучить общую информацию"
   ]
  },
  {
   "cell_type": "code",
   "execution_count": 1,
   "metadata": {},
   "outputs": [],
   "source": [
    "import pandas as pd\n",
    "import matplotlib.pyplot as plt\n",
    "import seaborn as sns\n",
    "import scipy.stats as st"
   ]
  },
  {
   "cell_type": "code",
   "execution_count": 3,
   "metadata": {},
   "outputs": [
    {
     "data": {
      "text/html": [
       "<div>\n",
       "<style scoped>\n",
       "    .dataframe tbody tr th:only-of-type {\n",
       "        vertical-align: middle;\n",
       "    }\n",
       "\n",
       "    .dataframe tbody tr th {\n",
       "        vertical-align: top;\n",
       "    }\n",
       "\n",
       "    .dataframe thead th {\n",
       "        text-align: right;\n",
       "    }\n",
       "</style>\n",
       "<table border=\"1\" class=\"dataframe\">\n",
       "  <thead>\n",
       "    <tr style=\"text-align: right;\">\n",
       "      <th></th>\n",
       "      <th>Name</th>\n",
       "      <th>Platform</th>\n",
       "      <th>Year_of_Release</th>\n",
       "      <th>Genre</th>\n",
       "      <th>NA_sales</th>\n",
       "      <th>EU_sales</th>\n",
       "      <th>JP_sales</th>\n",
       "      <th>Other_sales</th>\n",
       "      <th>Critic_Score</th>\n",
       "      <th>User_Score</th>\n",
       "      <th>Rating</th>\n",
       "    </tr>\n",
       "  </thead>\n",
       "  <tbody>\n",
       "    <tr>\n",
       "      <th>0</th>\n",
       "      <td>Wii Sports</td>\n",
       "      <td>Wii</td>\n",
       "      <td>2006.0</td>\n",
       "      <td>Sports</td>\n",
       "      <td>41.36</td>\n",
       "      <td>28.96</td>\n",
       "      <td>3.77</td>\n",
       "      <td>8.45</td>\n",
       "      <td>76.0</td>\n",
       "      <td>8</td>\n",
       "      <td>E</td>\n",
       "    </tr>\n",
       "    <tr>\n",
       "      <th>1</th>\n",
       "      <td>Super Mario Bros.</td>\n",
       "      <td>NES</td>\n",
       "      <td>1985.0</td>\n",
       "      <td>Platform</td>\n",
       "      <td>29.08</td>\n",
       "      <td>3.58</td>\n",
       "      <td>6.81</td>\n",
       "      <td>0.77</td>\n",
       "      <td>NaN</td>\n",
       "      <td>NaN</td>\n",
       "      <td>NaN</td>\n",
       "    </tr>\n",
       "    <tr>\n",
       "      <th>2</th>\n",
       "      <td>Mario Kart Wii</td>\n",
       "      <td>Wii</td>\n",
       "      <td>2008.0</td>\n",
       "      <td>Racing</td>\n",
       "      <td>15.68</td>\n",
       "      <td>12.76</td>\n",
       "      <td>3.79</td>\n",
       "      <td>3.29</td>\n",
       "      <td>82.0</td>\n",
       "      <td>8.3</td>\n",
       "      <td>E</td>\n",
       "    </tr>\n",
       "    <tr>\n",
       "      <th>3</th>\n",
       "      <td>Wii Sports Resort</td>\n",
       "      <td>Wii</td>\n",
       "      <td>2009.0</td>\n",
       "      <td>Sports</td>\n",
       "      <td>15.61</td>\n",
       "      <td>10.93</td>\n",
       "      <td>3.28</td>\n",
       "      <td>2.95</td>\n",
       "      <td>80.0</td>\n",
       "      <td>8</td>\n",
       "      <td>E</td>\n",
       "    </tr>\n",
       "    <tr>\n",
       "      <th>4</th>\n",
       "      <td>Pokemon Red/Pokemon Blue</td>\n",
       "      <td>GB</td>\n",
       "      <td>1996.0</td>\n",
       "      <td>Role-Playing</td>\n",
       "      <td>11.27</td>\n",
       "      <td>8.89</td>\n",
       "      <td>10.22</td>\n",
       "      <td>1.00</td>\n",
       "      <td>NaN</td>\n",
       "      <td>NaN</td>\n",
       "      <td>NaN</td>\n",
       "    </tr>\n",
       "  </tbody>\n",
       "</table>\n",
       "</div>"
      ],
      "text/plain": [
       "                       Name Platform  Year_of_Release         Genre  NA_sales  \\\n",
       "0                Wii Sports      Wii           2006.0        Sports     41.36   \n",
       "1         Super Mario Bros.      NES           1985.0      Platform     29.08   \n",
       "2            Mario Kart Wii      Wii           2008.0        Racing     15.68   \n",
       "3         Wii Sports Resort      Wii           2009.0        Sports     15.61   \n",
       "4  Pokemon Red/Pokemon Blue       GB           1996.0  Role-Playing     11.27   \n",
       "\n",
       "   EU_sales  JP_sales  Other_sales  Critic_Score User_Score Rating  \n",
       "0     28.96      3.77         8.45          76.0          8      E  \n",
       "1      3.58      6.81         0.77           NaN        NaN    NaN  \n",
       "2     12.76      3.79         3.29          82.0        8.3      E  \n",
       "3     10.93      3.28         2.95          80.0          8      E  \n",
       "4      8.89     10.22         1.00           NaN        NaN    NaN  "
      ]
     },
     "execution_count": 3,
     "metadata": {},
     "output_type": "execute_result"
    }
   ],
   "source": [
    "import os\n",
    "pth1 = '/datasets/games.csv'\n",
    "pth2 = 'datasets/games.csv'\n",
    "if os.path.exists(pth1):\n",
    "    games = pd.read_csv(pth1)\n",
    "elif os.path.exists(pth2):\n",
    "    games = pd.read_csv(pth2)\n",
    "else:\n",
    "    print(\"Проверьте правильность пути к датасету\")\n",
    "    \n",
    "games.head()"
   ]
  },
  {
   "cell_type": "markdown",
   "metadata": {},
   "source": [
    "Выведем основную информацию о датафрейме."
   ]
  },
  {
   "cell_type": "code",
   "execution_count": 4,
   "metadata": {},
   "outputs": [
    {
     "name": "stdout",
     "output_type": "stream",
     "text": [
      "<class 'pandas.core.frame.DataFrame'>\n",
      "RangeIndex: 16715 entries, 0 to 16714\n",
      "Data columns (total 11 columns):\n",
      " #   Column           Non-Null Count  Dtype  \n",
      "---  ------           --------------  -----  \n",
      " 0   Name             16713 non-null  object \n",
      " 1   Platform         16715 non-null  object \n",
      " 2   Year_of_Release  16446 non-null  float64\n",
      " 3   Genre            16713 non-null  object \n",
      " 4   NA_sales         16715 non-null  float64\n",
      " 5   EU_sales         16715 non-null  float64\n",
      " 6   JP_sales         16715 non-null  float64\n",
      " 7   Other_sales      16715 non-null  float64\n",
      " 8   Critic_Score     8137 non-null   float64\n",
      " 9   User_Score       10014 non-null  object \n",
      " 10  Rating           9949 non-null   object \n",
      "dtypes: float64(6), object(5)\n",
      "memory usage: 1.4+ MB\n"
     ]
    }
   ],
   "source": [
    "games.info()"
   ]
  },
  {
   "cell_type": "markdown",
   "metadata": {},
   "source": [
    "Перед предобработкой данных сохраним данные о количестве строк в изначальном датафрейме с целью проследить, чтобы количество удаленных данных не превысило 10%."
   ]
  },
  {
   "cell_type": "code",
   "execution_count": 5,
   "metadata": {},
   "outputs": [
    {
     "data": {
      "text/plain": [
       "16715"
      ]
     },
     "execution_count": 5,
     "metadata": {},
     "output_type": "execute_result"
    }
   ],
   "source": [
    "rows_orig = games.shape[0]\n",
    "rows_orig "
   ]
  },
  {
   "cell_type": "markdown",
   "metadata": {},
   "source": [
    "### Подготовка данных"
   ]
  },
  {
   "cell_type": "markdown",
   "metadata": {},
   "source": [
    "#### Приведем названия столбцов к нижнему регистру"
   ]
  },
  {
   "cell_type": "code",
   "execution_count": 6,
   "metadata": {},
   "outputs": [
    {
     "data": {
      "text/html": [
       "<div>\n",
       "<style scoped>\n",
       "    .dataframe tbody tr th:only-of-type {\n",
       "        vertical-align: middle;\n",
       "    }\n",
       "\n",
       "    .dataframe tbody tr th {\n",
       "        vertical-align: top;\n",
       "    }\n",
       "\n",
       "    .dataframe thead th {\n",
       "        text-align: right;\n",
       "    }\n",
       "</style>\n",
       "<table border=\"1\" class=\"dataframe\">\n",
       "  <thead>\n",
       "    <tr style=\"text-align: right;\">\n",
       "      <th></th>\n",
       "      <th>name</th>\n",
       "      <th>platform</th>\n",
       "      <th>year_of_release</th>\n",
       "      <th>genre</th>\n",
       "      <th>na_sales</th>\n",
       "      <th>eu_sales</th>\n",
       "      <th>jp_sales</th>\n",
       "      <th>other_sales</th>\n",
       "      <th>critic_score</th>\n",
       "      <th>user_score</th>\n",
       "      <th>rating</th>\n",
       "    </tr>\n",
       "  </thead>\n",
       "  <tbody>\n",
       "    <tr>\n",
       "      <th>0</th>\n",
       "      <td>Wii Sports</td>\n",
       "      <td>Wii</td>\n",
       "      <td>2006.0</td>\n",
       "      <td>Sports</td>\n",
       "      <td>41.36</td>\n",
       "      <td>28.96</td>\n",
       "      <td>3.77</td>\n",
       "      <td>8.45</td>\n",
       "      <td>76.0</td>\n",
       "      <td>8</td>\n",
       "      <td>E</td>\n",
       "    </tr>\n",
       "    <tr>\n",
       "      <th>1</th>\n",
       "      <td>Super Mario Bros.</td>\n",
       "      <td>NES</td>\n",
       "      <td>1985.0</td>\n",
       "      <td>Platform</td>\n",
       "      <td>29.08</td>\n",
       "      <td>3.58</td>\n",
       "      <td>6.81</td>\n",
       "      <td>0.77</td>\n",
       "      <td>NaN</td>\n",
       "      <td>NaN</td>\n",
       "      <td>NaN</td>\n",
       "    </tr>\n",
       "    <tr>\n",
       "      <th>2</th>\n",
       "      <td>Mario Kart Wii</td>\n",
       "      <td>Wii</td>\n",
       "      <td>2008.0</td>\n",
       "      <td>Racing</td>\n",
       "      <td>15.68</td>\n",
       "      <td>12.76</td>\n",
       "      <td>3.79</td>\n",
       "      <td>3.29</td>\n",
       "      <td>82.0</td>\n",
       "      <td>8.3</td>\n",
       "      <td>E</td>\n",
       "    </tr>\n",
       "    <tr>\n",
       "      <th>3</th>\n",
       "      <td>Wii Sports Resort</td>\n",
       "      <td>Wii</td>\n",
       "      <td>2009.0</td>\n",
       "      <td>Sports</td>\n",
       "      <td>15.61</td>\n",
       "      <td>10.93</td>\n",
       "      <td>3.28</td>\n",
       "      <td>2.95</td>\n",
       "      <td>80.0</td>\n",
       "      <td>8</td>\n",
       "      <td>E</td>\n",
       "    </tr>\n",
       "    <tr>\n",
       "      <th>4</th>\n",
       "      <td>Pokemon Red/Pokemon Blue</td>\n",
       "      <td>GB</td>\n",
       "      <td>1996.0</td>\n",
       "      <td>Role-Playing</td>\n",
       "      <td>11.27</td>\n",
       "      <td>8.89</td>\n",
       "      <td>10.22</td>\n",
       "      <td>1.00</td>\n",
       "      <td>NaN</td>\n",
       "      <td>NaN</td>\n",
       "      <td>NaN</td>\n",
       "    </tr>\n",
       "  </tbody>\n",
       "</table>\n",
       "</div>"
      ],
      "text/plain": [
       "                       name platform  year_of_release         genre  na_sales  \\\n",
       "0                Wii Sports      Wii           2006.0        Sports     41.36   \n",
       "1         Super Mario Bros.      NES           1985.0      Platform     29.08   \n",
       "2            Mario Kart Wii      Wii           2008.0        Racing     15.68   \n",
       "3         Wii Sports Resort      Wii           2009.0        Sports     15.61   \n",
       "4  Pokemon Red/Pokemon Blue       GB           1996.0  Role-Playing     11.27   \n",
       "\n",
       "   eu_sales  jp_sales  other_sales  critic_score user_score rating  \n",
       "0     28.96      3.77         8.45          76.0          8      E  \n",
       "1      3.58      6.81         0.77           NaN        NaN    NaN  \n",
       "2     12.76      3.79         3.29          82.0        8.3      E  \n",
       "3     10.93      3.28         2.95          80.0          8      E  \n",
       "4      8.89     10.22         1.00           NaN        NaN    NaN  "
      ]
     },
     "execution_count": 6,
     "metadata": {},
     "output_type": "execute_result"
    }
   ],
   "source": [
    "games_columns_list = list(games.columns)\n",
    "\n",
    "for i in range(len(games_columns_list)):\n",
    "   games_columns_list[i] = games_columns_list[i].lower()\n",
    "   \n",
    "games.columns = games_columns_list\n",
    "games.head()"
   ]
  },
  {
   "cell_type": "markdown",
   "metadata": {},
   "source": [
    "#### Рассмотрим наличие явных дубликатов в данных"
   ]
  },
  {
   "cell_type": "code",
   "execution_count": 7,
   "metadata": {},
   "outputs": [
    {
     "data": {
      "text/plain": [
       "0"
      ]
     },
     "execution_count": 7,
     "metadata": {},
     "output_type": "execute_result"
    }
   ],
   "source": [
    "games.duplicated().sum()"
   ]
  },
  {
   "cell_type": "markdown",
   "metadata": {},
   "source": [
    "Изучим налиичие неявных дубликатов в таблице. Таковыми будут являться строчки с одинаковыми значениями в столбцах 'name', 'platform', 'year_of_release'."
   ]
  },
  {
   "cell_type": "code",
   "execution_count": 8,
   "metadata": {
    "scrolled": false
   },
   "outputs": [
    {
     "data": {
      "text/html": [
       "<div>\n",
       "<style scoped>\n",
       "    .dataframe tbody tr th:only-of-type {\n",
       "        vertical-align: middle;\n",
       "    }\n",
       "\n",
       "    .dataframe tbody tr th {\n",
       "        vertical-align: top;\n",
       "    }\n",
       "\n",
       "    .dataframe thead th {\n",
       "        text-align: right;\n",
       "    }\n",
       "</style>\n",
       "<table border=\"1\" class=\"dataframe\">\n",
       "  <thead>\n",
       "    <tr style=\"text-align: right;\">\n",
       "      <th></th>\n",
       "      <th>name</th>\n",
       "      <th>platform</th>\n",
       "      <th>year_of_release</th>\n",
       "      <th>genre</th>\n",
       "      <th>na_sales</th>\n",
       "      <th>eu_sales</th>\n",
       "      <th>jp_sales</th>\n",
       "      <th>other_sales</th>\n",
       "      <th>critic_score</th>\n",
       "      <th>user_score</th>\n",
       "      <th>rating</th>\n",
       "    </tr>\n",
       "  </thead>\n",
       "  <tbody>\n",
       "    <tr>\n",
       "      <th>14244</th>\n",
       "      <td>NaN</td>\n",
       "      <td>GEN</td>\n",
       "      <td>1993.0</td>\n",
       "      <td>NaN</td>\n",
       "      <td>0.0</td>\n",
       "      <td>0.00</td>\n",
       "      <td>0.03</td>\n",
       "      <td>0.0</td>\n",
       "      <td>NaN</td>\n",
       "      <td>NaN</td>\n",
       "      <td>NaN</td>\n",
       "    </tr>\n",
       "    <tr>\n",
       "      <th>16230</th>\n",
       "      <td>Madden NFL 13</td>\n",
       "      <td>PS3</td>\n",
       "      <td>2012.0</td>\n",
       "      <td>Sports</td>\n",
       "      <td>0.0</td>\n",
       "      <td>0.01</td>\n",
       "      <td>0.00</td>\n",
       "      <td>0.0</td>\n",
       "      <td>83.0</td>\n",
       "      <td>5.5</td>\n",
       "      <td>E</td>\n",
       "    </tr>\n",
       "  </tbody>\n",
       "</table>\n",
       "</div>"
      ],
      "text/plain": [
       "                name platform  year_of_release   genre  na_sales  eu_sales  \\\n",
       "14244            NaN      GEN           1993.0     NaN       0.0      0.00   \n",
       "16230  Madden NFL 13      PS3           2012.0  Sports       0.0      0.01   \n",
       "\n",
       "       jp_sales  other_sales  critic_score user_score rating  \n",
       "14244      0.03          0.0           NaN        NaN    NaN  \n",
       "16230      0.00          0.0          83.0        5.5      E  "
      ]
     },
     "execution_count": 8,
     "metadata": {},
     "output_type": "execute_result"
    }
   ],
   "source": [
    "games[games.duplicated(subset=['name', 'platform', 'year_of_release'])]"
   ]
  },
  {
   "cell_type": "markdown",
   "metadata": {},
   "source": [
    "Таких строчек вссего две. Их можем удалить."
   ]
  },
  {
   "cell_type": "code",
   "execution_count": 9,
   "metadata": {},
   "outputs": [],
   "source": [
    "games = games.drop_duplicates(subset=['name', 'platform', 'year_of_release'])"
   ]
  },
  {
   "cell_type": "markdown",
   "metadata": {},
   "source": [
    "#### Обработаем пропуски в столбцах"
   ]
  },
  {
   "cell_type": "markdown",
   "metadata": {},
   "source": [
    "Рассмотрим пропуски в столбцах 'name', 'year_of_release', 'genre'."
   ]
  },
  {
   "cell_type": "code",
   "execution_count": 10,
   "metadata": {},
   "outputs": [
    {
     "data": {
      "text/html": [
       "<div>\n",
       "<style scoped>\n",
       "    .dataframe tbody tr th:only-of-type {\n",
       "        vertical-align: middle;\n",
       "    }\n",
       "\n",
       "    .dataframe tbody tr th {\n",
       "        vertical-align: top;\n",
       "    }\n",
       "\n",
       "    .dataframe thead th {\n",
       "        text-align: right;\n",
       "    }\n",
       "</style>\n",
       "<table border=\"1\" class=\"dataframe\">\n",
       "  <thead>\n",
       "    <tr style=\"text-align: right;\">\n",
       "      <th></th>\n",
       "      <th>name</th>\n",
       "      <th>platform</th>\n",
       "      <th>year_of_release</th>\n",
       "      <th>genre</th>\n",
       "      <th>na_sales</th>\n",
       "      <th>eu_sales</th>\n",
       "      <th>jp_sales</th>\n",
       "      <th>other_sales</th>\n",
       "      <th>critic_score</th>\n",
       "      <th>user_score</th>\n",
       "      <th>rating</th>\n",
       "    </tr>\n",
       "  </thead>\n",
       "  <tbody>\n",
       "    <tr>\n",
       "      <th>659</th>\n",
       "      <td>NaN</td>\n",
       "      <td>GEN</td>\n",
       "      <td>1993.0</td>\n",
       "      <td>NaN</td>\n",
       "      <td>1.78</td>\n",
       "      <td>0.53</td>\n",
       "      <td>0.0</td>\n",
       "      <td>0.08</td>\n",
       "      <td>NaN</td>\n",
       "      <td>NaN</td>\n",
       "      <td>NaN</td>\n",
       "    </tr>\n",
       "  </tbody>\n",
       "</table>\n",
       "</div>"
      ],
      "text/plain": [
       "    name platform  year_of_release genre  na_sales  eu_sales  jp_sales  \\\n",
       "659  NaN      GEN           1993.0   NaN      1.78      0.53       0.0   \n",
       "\n",
       "     other_sales  critic_score user_score rating  \n",
       "659         0.08           NaN        NaN    NaN  "
      ]
     },
     "execution_count": 10,
     "metadata": {},
     "output_type": "execute_result"
    }
   ],
   "source": [
    "games[games['name'].isnull()]"
   ]
  },
  {
   "cell_type": "code",
   "execution_count": 11,
   "metadata": {
    "scrolled": true
   },
   "outputs": [
    {
     "data": {
      "text/html": [
       "<div>\n",
       "<style scoped>\n",
       "    .dataframe tbody tr th:only-of-type {\n",
       "        vertical-align: middle;\n",
       "    }\n",
       "\n",
       "    .dataframe tbody tr th {\n",
       "        vertical-align: top;\n",
       "    }\n",
       "\n",
       "    .dataframe thead th {\n",
       "        text-align: right;\n",
       "    }\n",
       "</style>\n",
       "<table border=\"1\" class=\"dataframe\">\n",
       "  <thead>\n",
       "    <tr style=\"text-align: right;\">\n",
       "      <th></th>\n",
       "      <th>name</th>\n",
       "      <th>platform</th>\n",
       "      <th>year_of_release</th>\n",
       "      <th>genre</th>\n",
       "      <th>na_sales</th>\n",
       "      <th>eu_sales</th>\n",
       "      <th>jp_sales</th>\n",
       "      <th>other_sales</th>\n",
       "      <th>critic_score</th>\n",
       "      <th>user_score</th>\n",
       "      <th>rating</th>\n",
       "    </tr>\n",
       "  </thead>\n",
       "  <tbody>\n",
       "    <tr>\n",
       "      <th>183</th>\n",
       "      <td>Madden NFL 2004</td>\n",
       "      <td>PS2</td>\n",
       "      <td>NaN</td>\n",
       "      <td>Sports</td>\n",
       "      <td>4.26</td>\n",
       "      <td>0.26</td>\n",
       "      <td>0.01</td>\n",
       "      <td>0.71</td>\n",
       "      <td>94.0</td>\n",
       "      <td>8.5</td>\n",
       "      <td>E</td>\n",
       "    </tr>\n",
       "    <tr>\n",
       "      <th>377</th>\n",
       "      <td>FIFA Soccer 2004</td>\n",
       "      <td>PS2</td>\n",
       "      <td>NaN</td>\n",
       "      <td>Sports</td>\n",
       "      <td>0.59</td>\n",
       "      <td>2.36</td>\n",
       "      <td>0.04</td>\n",
       "      <td>0.51</td>\n",
       "      <td>84.0</td>\n",
       "      <td>6.4</td>\n",
       "      <td>E</td>\n",
       "    </tr>\n",
       "    <tr>\n",
       "      <th>456</th>\n",
       "      <td>LEGO Batman: The Videogame</td>\n",
       "      <td>Wii</td>\n",
       "      <td>NaN</td>\n",
       "      <td>Action</td>\n",
       "      <td>1.80</td>\n",
       "      <td>0.97</td>\n",
       "      <td>0.00</td>\n",
       "      <td>0.29</td>\n",
       "      <td>74.0</td>\n",
       "      <td>7.9</td>\n",
       "      <td>E10+</td>\n",
       "    </tr>\n",
       "    <tr>\n",
       "      <th>475</th>\n",
       "      <td>wwe Smackdown vs. Raw 2006</td>\n",
       "      <td>PS2</td>\n",
       "      <td>NaN</td>\n",
       "      <td>Fighting</td>\n",
       "      <td>1.57</td>\n",
       "      <td>1.02</td>\n",
       "      <td>0.00</td>\n",
       "      <td>0.41</td>\n",
       "      <td>NaN</td>\n",
       "      <td>NaN</td>\n",
       "      <td>NaN</td>\n",
       "    </tr>\n",
       "    <tr>\n",
       "      <th>609</th>\n",
       "      <td>Space Invaders</td>\n",
       "      <td>2600</td>\n",
       "      <td>NaN</td>\n",
       "      <td>Shooter</td>\n",
       "      <td>2.36</td>\n",
       "      <td>0.14</td>\n",
       "      <td>0.00</td>\n",
       "      <td>0.03</td>\n",
       "      <td>NaN</td>\n",
       "      <td>NaN</td>\n",
       "      <td>NaN</td>\n",
       "    </tr>\n",
       "    <tr>\n",
       "      <th>627</th>\n",
       "      <td>Rock Band</td>\n",
       "      <td>X360</td>\n",
       "      <td>NaN</td>\n",
       "      <td>Misc</td>\n",
       "      <td>1.93</td>\n",
       "      <td>0.33</td>\n",
       "      <td>0.00</td>\n",
       "      <td>0.21</td>\n",
       "      <td>92.0</td>\n",
       "      <td>8.2</td>\n",
       "      <td>T</td>\n",
       "    </tr>\n",
       "    <tr>\n",
       "      <th>657</th>\n",
       "      <td>Frogger's Adventures: Temple of the Frog</td>\n",
       "      <td>GBA</td>\n",
       "      <td>NaN</td>\n",
       "      <td>Adventure</td>\n",
       "      <td>2.15</td>\n",
       "      <td>0.18</td>\n",
       "      <td>0.00</td>\n",
       "      <td>0.07</td>\n",
       "      <td>73.0</td>\n",
       "      <td>tbd</td>\n",
       "      <td>E</td>\n",
       "    </tr>\n",
       "    <tr>\n",
       "      <th>678</th>\n",
       "      <td>LEGO Indiana Jones: The Original Adventures</td>\n",
       "      <td>Wii</td>\n",
       "      <td>NaN</td>\n",
       "      <td>Action</td>\n",
       "      <td>1.51</td>\n",
       "      <td>0.61</td>\n",
       "      <td>0.00</td>\n",
       "      <td>0.21</td>\n",
       "      <td>78.0</td>\n",
       "      <td>6.6</td>\n",
       "      <td>E10+</td>\n",
       "    </tr>\n",
       "    <tr>\n",
       "      <th>719</th>\n",
       "      <td>Call of Duty 3</td>\n",
       "      <td>Wii</td>\n",
       "      <td>NaN</td>\n",
       "      <td>Shooter</td>\n",
       "      <td>1.17</td>\n",
       "      <td>0.84</td>\n",
       "      <td>0.00</td>\n",
       "      <td>0.23</td>\n",
       "      <td>69.0</td>\n",
       "      <td>6.7</td>\n",
       "      <td>T</td>\n",
       "    </tr>\n",
       "    <tr>\n",
       "      <th>805</th>\n",
       "      <td>Rock Band</td>\n",
       "      <td>Wii</td>\n",
       "      <td>NaN</td>\n",
       "      <td>Misc</td>\n",
       "      <td>1.33</td>\n",
       "      <td>0.56</td>\n",
       "      <td>0.00</td>\n",
       "      <td>0.20</td>\n",
       "      <td>80.0</td>\n",
       "      <td>6.3</td>\n",
       "      <td>T</td>\n",
       "    </tr>\n",
       "  </tbody>\n",
       "</table>\n",
       "</div>"
      ],
      "text/plain": [
       "                                            name platform  year_of_release  \\\n",
       "183                              Madden NFL 2004      PS2              NaN   \n",
       "377                             FIFA Soccer 2004      PS2              NaN   \n",
       "456                   LEGO Batman: The Videogame      Wii              NaN   \n",
       "475                   wwe Smackdown vs. Raw 2006      PS2              NaN   \n",
       "609                               Space Invaders     2600              NaN   \n",
       "627                                    Rock Band     X360              NaN   \n",
       "657     Frogger's Adventures: Temple of the Frog      GBA              NaN   \n",
       "678  LEGO Indiana Jones: The Original Adventures      Wii              NaN   \n",
       "719                               Call of Duty 3      Wii              NaN   \n",
       "805                                    Rock Band      Wii              NaN   \n",
       "\n",
       "         genre  na_sales  eu_sales  jp_sales  other_sales  critic_score  \\\n",
       "183     Sports      4.26      0.26      0.01         0.71          94.0   \n",
       "377     Sports      0.59      2.36      0.04         0.51          84.0   \n",
       "456     Action      1.80      0.97      0.00         0.29          74.0   \n",
       "475   Fighting      1.57      1.02      0.00         0.41           NaN   \n",
       "609    Shooter      2.36      0.14      0.00         0.03           NaN   \n",
       "627       Misc      1.93      0.33      0.00         0.21          92.0   \n",
       "657  Adventure      2.15      0.18      0.00         0.07          73.0   \n",
       "678     Action      1.51      0.61      0.00         0.21          78.0   \n",
       "719    Shooter      1.17      0.84      0.00         0.23          69.0   \n",
       "805       Misc      1.33      0.56      0.00         0.20          80.0   \n",
       "\n",
       "    user_score rating  \n",
       "183        8.5      E  \n",
       "377        6.4      E  \n",
       "456        7.9   E10+  \n",
       "475        NaN    NaN  \n",
       "609        NaN    NaN  \n",
       "627        8.2      T  \n",
       "657        tbd      E  \n",
       "678        6.6   E10+  \n",
       "719        6.7      T  \n",
       "805        6.3      T  "
      ]
     },
     "execution_count": 11,
     "metadata": {},
     "output_type": "execute_result"
    }
   ],
   "source": [
    "games[games['year_of_release'].isnull()].head(10)"
   ]
  },
  {
   "cell_type": "code",
   "execution_count": 12,
   "metadata": {},
   "outputs": [
    {
     "data": {
      "text/html": [
       "<div>\n",
       "<style scoped>\n",
       "    .dataframe tbody tr th:only-of-type {\n",
       "        vertical-align: middle;\n",
       "    }\n",
       "\n",
       "    .dataframe tbody tr th {\n",
       "        vertical-align: top;\n",
       "    }\n",
       "\n",
       "    .dataframe thead th {\n",
       "        text-align: right;\n",
       "    }\n",
       "</style>\n",
       "<table border=\"1\" class=\"dataframe\">\n",
       "  <thead>\n",
       "    <tr style=\"text-align: right;\">\n",
       "      <th></th>\n",
       "      <th>name</th>\n",
       "      <th>platform</th>\n",
       "      <th>year_of_release</th>\n",
       "      <th>genre</th>\n",
       "      <th>na_sales</th>\n",
       "      <th>eu_sales</th>\n",
       "      <th>jp_sales</th>\n",
       "      <th>other_sales</th>\n",
       "      <th>critic_score</th>\n",
       "      <th>user_score</th>\n",
       "      <th>rating</th>\n",
       "    </tr>\n",
       "  </thead>\n",
       "  <tbody>\n",
       "    <tr>\n",
       "      <th>659</th>\n",
       "      <td>NaN</td>\n",
       "      <td>GEN</td>\n",
       "      <td>1993.0</td>\n",
       "      <td>NaN</td>\n",
       "      <td>1.78</td>\n",
       "      <td>0.53</td>\n",
       "      <td>0.0</td>\n",
       "      <td>0.08</td>\n",
       "      <td>NaN</td>\n",
       "      <td>NaN</td>\n",
       "      <td>NaN</td>\n",
       "    </tr>\n",
       "  </tbody>\n",
       "</table>\n",
       "</div>"
      ],
      "text/plain": [
       "    name platform  year_of_release genre  na_sales  eu_sales  jp_sales  \\\n",
       "659  NaN      GEN           1993.0   NaN      1.78      0.53       0.0   \n",
       "\n",
       "     other_sales  critic_score user_score rating  \n",
       "659         0.08           NaN        NaN    NaN  "
      ]
     },
     "execution_count": 12,
     "metadata": {},
     "output_type": "execute_result"
    }
   ],
   "source": [
    "games[games['genre'].isnull()]"
   ]
  },
  {
   "cell_type": "markdown",
   "metadata": {},
   "source": [
    "Пропуски в столбцах 'name' и 'genre' есть только у одной игры. Пропуски в столбце 'year_of_relese' имеют даже популярные игры."
   ]
  },
  {
   "cell_type": "markdown",
   "metadata": {},
   "source": [
    "Строки с пропусками в стобце с названием игры и года её релиза удалим, таких строк немного. Пропуски в этих столбцах могли возникнуть из-за некорректных предоставленных данных со стороны производителя, либо же из-за сбоя системы."
   ]
  },
  {
   "cell_type": "code",
   "execution_count": 13,
   "metadata": {},
   "outputs": [],
   "source": [
    "games = games.dropna(subset=['name','year_of_release'])"
   ]
  },
  {
   "cell_type": "code",
   "execution_count": 14,
   "metadata": {},
   "outputs": [
    {
     "name": "stdout",
     "output_type": "stream",
     "text": [
      "<class 'pandas.core.frame.DataFrame'>\n",
      "Int64Index: 16443 entries, 0 to 16714\n",
      "Data columns (total 11 columns):\n",
      " #   Column           Non-Null Count  Dtype  \n",
      "---  ------           --------------  -----  \n",
      " 0   name             16443 non-null  object \n",
      " 1   platform         16443 non-null  object \n",
      " 2   year_of_release  16443 non-null  float64\n",
      " 3   genre            16443 non-null  object \n",
      " 4   na_sales         16443 non-null  float64\n",
      " 5   eu_sales         16443 non-null  float64\n",
      " 6   jp_sales         16443 non-null  float64\n",
      " 7   other_sales      16443 non-null  float64\n",
      " 8   critic_score     7982 non-null   float64\n",
      " 9   user_score       9838 non-null   object \n",
      " 10  rating           9767 non-null   object \n",
      "dtypes: float64(6), object(5)\n",
      "memory usage: 1.5+ MB\n"
     ]
    }
   ],
   "source": [
    "games.info()"
   ]
  },
  {
   "cell_type": "markdown",
   "metadata": {},
   "source": [
    "Рассмотрим значения в столбце с оценкой пользователей."
   ]
  },
  {
   "cell_type": "code",
   "execution_count": 15,
   "metadata": {},
   "outputs": [
    {
     "data": {
      "text/plain": [
       "array(['8', nan, '8.3', '8.5', '6.6', '8.4', '8.6', '7.7', '6.3', '7.4',\n",
       "       '8.2', '9', '7.9', '8.1', '8.7', '7.1', '3.4', '5.3', '4.8', '3.2',\n",
       "       '8.9', '6.4', '7.8', '7.5', '2.6', '7.2', '9.2', '7', '7.3', '4.3',\n",
       "       '7.6', '5.7', '5', '9.1', '6.5', 'tbd', '8.8', '6.9', '9.4', '6.8',\n",
       "       '6.1', '6.7', '5.4', '4', '4.9', '4.5', '9.3', '6.2', '4.2', '6',\n",
       "       '3.7', '4.1', '5.8', '5.6', '5.5', '4.4', '4.6', '5.9', '3.9',\n",
       "       '3.1', '2.9', '5.2', '3.3', '4.7', '5.1', '3.5', '2.5', '1.9', '3',\n",
       "       '2.7', '2.2', '2', '9.5', '2.1', '3.6', '2.8', '1.8', '3.8', '0',\n",
       "       '1.6', '9.6', '2.4', '1.7', '1.1', '0.3', '1.5', '0.7', '1.2',\n",
       "       '2.3', '0.5', '1.3', '0.2', '0.6', '1.4', '0.9', '1', '9.7'],\n",
       "      dtype=object)"
      ]
     },
     "execution_count": 15,
     "metadata": {},
     "output_type": "execute_result"
    }
   ],
   "source": [
    "games['user_score'].unique()"
   ]
  },
  {
   "cell_type": "markdown",
   "metadata": {},
   "source": [
    "Значение 'tbd' расшифровывается как To Be Determined - будет определено. Данное значение следует также рассматривать как пропуск. Пропуски в столбцах с оценками заменим на число -1. <br>\n",
    "Пропуски в столбце 'rating' заменим строкой 'no_data'"
   ]
  },
  {
   "cell_type": "code",
   "execution_count": 16,
   "metadata": {},
   "outputs": [],
   "source": [
    "#columns_to_change = ['critic_score', 'user_score', 'rating']\n",
    "columns_to_change = ['critic_score', 'user_score']\n",
    "games[columns_to_change] = games[columns_to_change].replace('tbd', -1).fillna(-1)\n",
    "\n",
    "games['rating'] = games['rating'].fillna('no_data')"
   ]
  },
  {
   "cell_type": "code",
   "execution_count": 17,
   "metadata": {},
   "outputs": [
    {
     "data": {
      "text/html": [
       "<div>\n",
       "<style scoped>\n",
       "    .dataframe tbody tr th:only-of-type {\n",
       "        vertical-align: middle;\n",
       "    }\n",
       "\n",
       "    .dataframe tbody tr th {\n",
       "        vertical-align: top;\n",
       "    }\n",
       "\n",
       "    .dataframe thead th {\n",
       "        text-align: right;\n",
       "    }\n",
       "</style>\n",
       "<table border=\"1\" class=\"dataframe\">\n",
       "  <thead>\n",
       "    <tr style=\"text-align: right;\">\n",
       "      <th></th>\n",
       "      <th>name</th>\n",
       "      <th>platform</th>\n",
       "      <th>year_of_release</th>\n",
       "      <th>genre</th>\n",
       "      <th>na_sales</th>\n",
       "      <th>eu_sales</th>\n",
       "      <th>jp_sales</th>\n",
       "      <th>other_sales</th>\n",
       "      <th>critic_score</th>\n",
       "      <th>user_score</th>\n",
       "      <th>rating</th>\n",
       "    </tr>\n",
       "  </thead>\n",
       "  <tbody>\n",
       "    <tr>\n",
       "      <th>0</th>\n",
       "      <td>Wii Sports</td>\n",
       "      <td>Wii</td>\n",
       "      <td>2006.0</td>\n",
       "      <td>Sports</td>\n",
       "      <td>41.36</td>\n",
       "      <td>28.96</td>\n",
       "      <td>3.77</td>\n",
       "      <td>8.45</td>\n",
       "      <td>76.0</td>\n",
       "      <td>8</td>\n",
       "      <td>E</td>\n",
       "    </tr>\n",
       "    <tr>\n",
       "      <th>1</th>\n",
       "      <td>Super Mario Bros.</td>\n",
       "      <td>NES</td>\n",
       "      <td>1985.0</td>\n",
       "      <td>Platform</td>\n",
       "      <td>29.08</td>\n",
       "      <td>3.58</td>\n",
       "      <td>6.81</td>\n",
       "      <td>0.77</td>\n",
       "      <td>-1.0</td>\n",
       "      <td>-1</td>\n",
       "      <td>no_data</td>\n",
       "    </tr>\n",
       "    <tr>\n",
       "      <th>2</th>\n",
       "      <td>Mario Kart Wii</td>\n",
       "      <td>Wii</td>\n",
       "      <td>2008.0</td>\n",
       "      <td>Racing</td>\n",
       "      <td>15.68</td>\n",
       "      <td>12.76</td>\n",
       "      <td>3.79</td>\n",
       "      <td>3.29</td>\n",
       "      <td>82.0</td>\n",
       "      <td>8.3</td>\n",
       "      <td>E</td>\n",
       "    </tr>\n",
       "    <tr>\n",
       "      <th>3</th>\n",
       "      <td>Wii Sports Resort</td>\n",
       "      <td>Wii</td>\n",
       "      <td>2009.0</td>\n",
       "      <td>Sports</td>\n",
       "      <td>15.61</td>\n",
       "      <td>10.93</td>\n",
       "      <td>3.28</td>\n",
       "      <td>2.95</td>\n",
       "      <td>80.0</td>\n",
       "      <td>8</td>\n",
       "      <td>E</td>\n",
       "    </tr>\n",
       "    <tr>\n",
       "      <th>4</th>\n",
       "      <td>Pokemon Red/Pokemon Blue</td>\n",
       "      <td>GB</td>\n",
       "      <td>1996.0</td>\n",
       "      <td>Role-Playing</td>\n",
       "      <td>11.27</td>\n",
       "      <td>8.89</td>\n",
       "      <td>10.22</td>\n",
       "      <td>1.00</td>\n",
       "      <td>-1.0</td>\n",
       "      <td>-1</td>\n",
       "      <td>no_data</td>\n",
       "    </tr>\n",
       "  </tbody>\n",
       "</table>\n",
       "</div>"
      ],
      "text/plain": [
       "                       name platform  year_of_release         genre  na_sales  \\\n",
       "0                Wii Sports      Wii           2006.0        Sports     41.36   \n",
       "1         Super Mario Bros.      NES           1985.0      Platform     29.08   \n",
       "2            Mario Kart Wii      Wii           2008.0        Racing     15.68   \n",
       "3         Wii Sports Resort      Wii           2009.0        Sports     15.61   \n",
       "4  Pokemon Red/Pokemon Blue       GB           1996.0  Role-Playing     11.27   \n",
       "\n",
       "   eu_sales  jp_sales  other_sales  critic_score user_score   rating  \n",
       "0     28.96      3.77         8.45          76.0          8        E  \n",
       "1      3.58      6.81         0.77          -1.0         -1  no_data  \n",
       "2     12.76      3.79         3.29          82.0        8.3        E  \n",
       "3     10.93      3.28         2.95          80.0          8        E  \n",
       "4      8.89     10.22         1.00          -1.0         -1  no_data  "
      ]
     },
     "execution_count": 17,
     "metadata": {},
     "output_type": "execute_result"
    }
   ],
   "source": [
    "games.head()"
   ]
  },
  {
   "cell_type": "markdown",
   "metadata": {},
   "source": [
    "#### Преобразуем типы данных в столбцах"
   ]
  },
  {
   "cell_type": "markdown",
   "metadata": {},
   "source": [
    "Заменим типы данных в столбцах 'year_of_release' и 'critic_score' на int, потому что значения в этих столбцах - целочисленные. Тип столбца 'user_score' заменим на вещественный."
   ]
  },
  {
   "cell_type": "code",
   "execution_count": 18,
   "metadata": {},
   "outputs": [],
   "source": [
    "games[['year_of_release', 'critic_score']] = games[['year_of_release', 'critic_score']].astype(int)\n",
    "games['user_score'] = pd.to_numeric(games['user_score'])"
   ]
  },
  {
   "cell_type": "code",
   "execution_count": 19,
   "metadata": {},
   "outputs": [
    {
     "name": "stdout",
     "output_type": "stream",
     "text": [
      "<class 'pandas.core.frame.DataFrame'>\n",
      "Int64Index: 16443 entries, 0 to 16714\n",
      "Data columns (total 11 columns):\n",
      " #   Column           Non-Null Count  Dtype  \n",
      "---  ------           --------------  -----  \n",
      " 0   name             16443 non-null  object \n",
      " 1   platform         16443 non-null  object \n",
      " 2   year_of_release  16443 non-null  int64  \n",
      " 3   genre            16443 non-null  object \n",
      " 4   na_sales         16443 non-null  float64\n",
      " 5   eu_sales         16443 non-null  float64\n",
      " 6   jp_sales         16443 non-null  float64\n",
      " 7   other_sales      16443 non-null  float64\n",
      " 8   critic_score     16443 non-null  int64  \n",
      " 9   user_score       16443 non-null  float64\n",
      " 10  rating           16443 non-null  object \n",
      "dtypes: float64(5), int64(2), object(4)\n",
      "memory usage: 1.5+ MB\n"
     ]
    }
   ],
   "source": [
    "games.info()"
   ]
  },
  {
   "cell_type": "markdown",
   "metadata": {},
   "source": [
    "#### Посчитаем суммарные продажи во всех регионах"
   ]
  },
  {
   "cell_type": "markdown",
   "metadata": {},
   "source": [
    "Запишем данные о суммарных продажах в отдельный столбец."
   ]
  },
  {
   "cell_type": "code",
   "execution_count": 20,
   "metadata": {},
   "outputs": [
    {
     "data": {
      "text/html": [
       "<div>\n",
       "<style scoped>\n",
       "    .dataframe tbody tr th:only-of-type {\n",
       "        vertical-align: middle;\n",
       "    }\n",
       "\n",
       "    .dataframe tbody tr th {\n",
       "        vertical-align: top;\n",
       "    }\n",
       "\n",
       "    .dataframe thead th {\n",
       "        text-align: right;\n",
       "    }\n",
       "</style>\n",
       "<table border=\"1\" class=\"dataframe\">\n",
       "  <thead>\n",
       "    <tr style=\"text-align: right;\">\n",
       "      <th></th>\n",
       "      <th>name</th>\n",
       "      <th>platform</th>\n",
       "      <th>year_of_release</th>\n",
       "      <th>genre</th>\n",
       "      <th>na_sales</th>\n",
       "      <th>eu_sales</th>\n",
       "      <th>jp_sales</th>\n",
       "      <th>other_sales</th>\n",
       "      <th>critic_score</th>\n",
       "      <th>user_score</th>\n",
       "      <th>rating</th>\n",
       "      <th>total_sales</th>\n",
       "    </tr>\n",
       "  </thead>\n",
       "  <tbody>\n",
       "    <tr>\n",
       "      <th>0</th>\n",
       "      <td>Wii Sports</td>\n",
       "      <td>Wii</td>\n",
       "      <td>2006</td>\n",
       "      <td>Sports</td>\n",
       "      <td>41.36</td>\n",
       "      <td>28.96</td>\n",
       "      <td>3.77</td>\n",
       "      <td>8.45</td>\n",
       "      <td>76</td>\n",
       "      <td>8.0</td>\n",
       "      <td>E</td>\n",
       "      <td>82.54</td>\n",
       "    </tr>\n",
       "    <tr>\n",
       "      <th>1</th>\n",
       "      <td>Super Mario Bros.</td>\n",
       "      <td>NES</td>\n",
       "      <td>1985</td>\n",
       "      <td>Platform</td>\n",
       "      <td>29.08</td>\n",
       "      <td>3.58</td>\n",
       "      <td>6.81</td>\n",
       "      <td>0.77</td>\n",
       "      <td>-1</td>\n",
       "      <td>-1.0</td>\n",
       "      <td>no_data</td>\n",
       "      <td>40.24</td>\n",
       "    </tr>\n",
       "    <tr>\n",
       "      <th>2</th>\n",
       "      <td>Mario Kart Wii</td>\n",
       "      <td>Wii</td>\n",
       "      <td>2008</td>\n",
       "      <td>Racing</td>\n",
       "      <td>15.68</td>\n",
       "      <td>12.76</td>\n",
       "      <td>3.79</td>\n",
       "      <td>3.29</td>\n",
       "      <td>82</td>\n",
       "      <td>8.3</td>\n",
       "      <td>E</td>\n",
       "      <td>35.52</td>\n",
       "    </tr>\n",
       "    <tr>\n",
       "      <th>3</th>\n",
       "      <td>Wii Sports Resort</td>\n",
       "      <td>Wii</td>\n",
       "      <td>2009</td>\n",
       "      <td>Sports</td>\n",
       "      <td>15.61</td>\n",
       "      <td>10.93</td>\n",
       "      <td>3.28</td>\n",
       "      <td>2.95</td>\n",
       "      <td>80</td>\n",
       "      <td>8.0</td>\n",
       "      <td>E</td>\n",
       "      <td>32.77</td>\n",
       "    </tr>\n",
       "    <tr>\n",
       "      <th>4</th>\n",
       "      <td>Pokemon Red/Pokemon Blue</td>\n",
       "      <td>GB</td>\n",
       "      <td>1996</td>\n",
       "      <td>Role-Playing</td>\n",
       "      <td>11.27</td>\n",
       "      <td>8.89</td>\n",
       "      <td>10.22</td>\n",
       "      <td>1.00</td>\n",
       "      <td>-1</td>\n",
       "      <td>-1.0</td>\n",
       "      <td>no_data</td>\n",
       "      <td>31.38</td>\n",
       "    </tr>\n",
       "  </tbody>\n",
       "</table>\n",
       "</div>"
      ],
      "text/plain": [
       "                       name platform  year_of_release         genre  na_sales  \\\n",
       "0                Wii Sports      Wii             2006        Sports     41.36   \n",
       "1         Super Mario Bros.      NES             1985      Platform     29.08   \n",
       "2            Mario Kart Wii      Wii             2008        Racing     15.68   \n",
       "3         Wii Sports Resort      Wii             2009        Sports     15.61   \n",
       "4  Pokemon Red/Pokemon Blue       GB             1996  Role-Playing     11.27   \n",
       "\n",
       "   eu_sales  jp_sales  other_sales  critic_score  user_score   rating  \\\n",
       "0     28.96      3.77         8.45            76         8.0        E   \n",
       "1      3.58      6.81         0.77            -1        -1.0  no_data   \n",
       "2     12.76      3.79         3.29            82         8.3        E   \n",
       "3     10.93      3.28         2.95            80         8.0        E   \n",
       "4      8.89     10.22         1.00            -1        -1.0  no_data   \n",
       "\n",
       "   total_sales  \n",
       "0        82.54  \n",
       "1        40.24  \n",
       "2        35.52  \n",
       "3        32.77  \n",
       "4        31.38  "
      ]
     },
     "execution_count": 20,
     "metadata": {},
     "output_type": "execute_result"
    }
   ],
   "source": [
    "games['total_sales'] = games['na_sales'] + games['eu_sales'] + games['jp_sales'] + games['other_sales']\n",
    "games.head()"
   ]
  },
  {
   "cell_type": "markdown",
   "metadata": {},
   "source": [
    "Посмотрим, какое количество данных осталось после предобработки."
   ]
  },
  {
   "cell_type": "code",
   "execution_count": 21,
   "metadata": {},
   "outputs": [
    {
     "data": {
      "text/plain": [
       "0.98"
      ]
     },
     "execution_count": 21,
     "metadata": {},
     "output_type": "execute_result"
    }
   ],
   "source": [
    "round(games.shape[0] / rows_orig, 2)"
   ]
  },
  {
   "cell_type": "markdown",
   "metadata": {},
   "source": [
    "Удалено было всего лишь 2%."
   ]
  },
  {
   "cell_type": "markdown",
   "metadata": {},
   "source": [
    "Пропуски в данных могли возникнуть из-за разных причин в зависимости от столбца, где обнаружен пропуск. Так, в столбцах 'name', 'year_of_release' и 'platform' пропуски могли возникнуть из-за ошибки в заполнении данных. В столбце 'rating' пропуски имеют игры, выпущенные не в Северной Америке, поскольку ESRB - рейтинг для США и Канады."
   ]
  },
  {
   "cell_type": "markdown",
   "metadata": {},
   "source": [
    "***Вывод по проведённой предобработке данных:***\n",
    "\n",
    "При предобработке данных названия столбцов были переведены в нижний регистр. \n",
    "\n",
    "Обработаны пропуски в таблице:\n",
    "- Строки с пропусками в столбцах 'year_of_release' и 'name' были удалены\n",
    "- Пропуски в столбцах 'user_score', 'critic_score' были заменены на -1\n",
    "- Пропуски в столбце 'rating' заменены на 'na_data'\n",
    "- Значения tbd в столбце 'user_score' заменены на -1\n",
    "\n",
    "Пропуски в столбцах 'name', 'year_of_release' и 'platform' могли возникнуть из-за ошибки в заполнении данных. В 'rating' пропуски имеют игры, выпущенные не в Северной Америке, поскольку ESRB - рейтинг для США и Канады.\n",
    "\n",
    "Явных дубликатов не обнаружно. Удалены строки с одинаковыми занчениями в столбцах 'name', 'year_of_rlease' и 'platform'.\n",
    "\n",
    "Изменены типы данных в следующих столбцах:\n",
    "- Типы данных в столбцах 'year_of_release' и 'critic_score' заменены на int\n",
    "- Тип столбца 'user_score' заменен на вещественный\n",
    "- Данные о суммарных продажах были записаны в отдельный столбец 'total_sales'.\n",
    "\n",
    "Во время предобработки было удавлено не более 2% от всех данных."
   ]
  },
  {
   "cell_type": "markdown",
   "metadata": {},
   "source": [
    "### Исследовательский анализ данных"
   ]
  },
  {
   "cell_type": "markdown",
   "metadata": {},
   "source": [
    "#### Посмотрим, сколько игр выпускалось в разные годы"
   ]
  },
  {
   "cell_type": "code",
   "execution_count": 23,
   "metadata": {
    "scrolled": false
   },
   "outputs": [
    {
     "data": {
      "image/png": "[encoded data removed]",
      "text/plain": [
       "<Figure size 864x360 with 1 Axes>"
      ]
     },
     "metadata": {
      "needs_background": "light"
     },
     "output_type": "display_data"
    }
   ],
   "source": [
    "plt.figure(figsize = (12, 5))\n",
    "games['year_of_release'].value_counts(sort=False).sort_index().plot.bar()\n",
    "plt.xlabel('Год выпуска')\n",
    "plt.ylabel('Количество игр')\n",
    "plt.xticks(rotation=45)\n",
    "plt.title('Количество выпущенных игр по годам')\n",
    "plt.show()"
   ]
  },
  {
   "cell_type": "markdown",
   "metadata": {},
   "source": [
    "Для дальнейшего исследовательского анализа данные ранее 2012 года не важны, поскольку уже устарели и не являются актуальными."
   ]
  },
  {
   "cell_type": "markdown",
   "metadata": {},
   "source": [
    "#### Посмотрим, как менялись продажи по платформам"
   ]
  },
  {
   "cell_type": "code",
   "execution_count": 24,
   "metadata": {},
   "outputs": [
    {
     "data": {
      "image/png": "[encoded data removed]",
      "text/plain": [
       "<Figure size 1296x720 with 1 Axes>"
      ]
     },
     "metadata": {
      "needs_background": "light"
     },
     "output_type": "display_data"
    }
   ],
   "source": [
    "games_actual = games.copy()\n",
    "\n",
    "plt.figure(figsize = (18, 10))\n",
    "for platform in games_actual['platform'].unique():\n",
    "    platform_pivot_table = games_actual.query('platform == @platform').pivot_table(index='year_of_release', values='total_sales', aggfunc='sum')\n",
    "    ax = plt.plot(platform_pivot_table.index, platform_pivot_table.values, \"-o\", label=platform)\n",
    "plt.grid()\n",
    "plt.xticks(range(1980, 2017)) \n",
    "plt.xlabel('Годы')\n",
    "plt.ylabel('Количество проданных игр в млн.')\n",
    "plt.title('Распределение продаж платформ по годам')\n",
    "plt.xticks(rotation=45)\n",
    "plt.legend()\n",
    "plt.show()"
   ]
  },
  {
   "cell_type": "code",
   "execution_count": 25,
   "metadata": {},
   "outputs": [
    {
     "data": {
      "text/plain": [
       "7.0"
      ]
     },
     "execution_count": 25,
     "metadata": {},
     "output_type": "execute_result"
    }
   ],
   "source": [
    "temp = games.copy() \n",
    "time_life = temp.pivot_table(index='platform', values='year_of_release', aggfunc=['min', 'max']).reset_index()\n",
    "time_life['life'] = time_life['max'] - time_life['min'] + 1 # в срок жизни платформы, должны входить границы диапазона, \n",
    "                                                            # поэтому +1\n",
    "time_life['life'].median()"
   ]
  },
  {
   "cell_type": "markdown",
   "metadata": {},
   "source": [
    "В среднем на каждой платформе новые игры выпускаются и продаются в течение 7 лет после создания платформы."
   ]
  },
  {
   "cell_type": "markdown",
   "metadata": {},
   "source": [
    "***Промежуточные выводы:***<br>\n",
    "1. Изучено распрделение игр по годам выпуска и составлен соотвествующий график. Определено, что для дальнейшего анализа данные за период до 2012 года не важны, поскольку устарели и больше не являются актуальными для нас.\n",
    "2. Исследовано, как менялись продажи по всем платформам за весь период. Составлен соотвестующий график.\n",
    "3. Вычислено, что медианное время жизни одной платформы составляет 7 лет. "
   ]
  },
  {
   "cell_type": "markdown",
   "metadata": {},
   "source": [
    "В качестве актуального периода выберем промежуток с 2013 по 2016 год."
   ]
  },
  {
   "cell_type": "code",
   "execution_count": 26,
   "metadata": {},
   "outputs": [],
   "source": [
    "games_actual = games_actual.query('year_of_release >= 2013')"
   ]
  },
  {
   "cell_type": "markdown",
   "metadata": {},
   "source": [
    "Выберем платформы с наибольшими суммарными продажами."
   ]
  },
  {
   "cell_type": "code",
   "execution_count": 27,
   "metadata": {},
   "outputs": [
    {
     "data": {
      "text/html": [
       "<div>\n",
       "<style scoped>\n",
       "    .dataframe tbody tr th:only-of-type {\n",
       "        vertical-align: middle;\n",
       "    }\n",
       "\n",
       "    .dataframe tbody tr th {\n",
       "        vertical-align: top;\n",
       "    }\n",
       "\n",
       "    .dataframe thead th {\n",
       "        text-align: right;\n",
       "    }\n",
       "</style>\n",
       "<table border=\"1\" class=\"dataframe\">\n",
       "  <thead>\n",
       "    <tr style=\"text-align: right;\">\n",
       "      <th></th>\n",
       "      <th>total_sales</th>\n",
       "    </tr>\n",
       "    <tr>\n",
       "      <th>platform</th>\n",
       "      <th></th>\n",
       "    </tr>\n",
       "  </thead>\n",
       "  <tbody>\n",
       "    <tr>\n",
       "      <th>PS4</th>\n",
       "      <td>314.14</td>\n",
       "    </tr>\n",
       "    <tr>\n",
       "      <th>PS3</th>\n",
       "      <td>181.43</td>\n",
       "    </tr>\n",
       "    <tr>\n",
       "      <th>XOne</th>\n",
       "      <td>159.32</td>\n",
       "    </tr>\n",
       "    <tr>\n",
       "      <th>3DS</th>\n",
       "      <td>143.25</td>\n",
       "    </tr>\n",
       "    <tr>\n",
       "      <th>X360</th>\n",
       "      <td>136.80</td>\n",
       "    </tr>\n",
       "    <tr>\n",
       "      <th>WiiU</th>\n",
       "      <td>64.63</td>\n",
       "    </tr>\n",
       "    <tr>\n",
       "      <th>PC</th>\n",
       "      <td>39.43</td>\n",
       "    </tr>\n",
       "    <tr>\n",
       "      <th>PSV</th>\n",
       "      <td>32.99</td>\n",
       "    </tr>\n",
       "    <tr>\n",
       "      <th>Wii</th>\n",
       "      <td>13.66</td>\n",
       "    </tr>\n",
       "    <tr>\n",
       "      <th>PSP</th>\n",
       "      <td>3.50</td>\n",
       "    </tr>\n",
       "    <tr>\n",
       "      <th>DS</th>\n",
       "      <td>1.54</td>\n",
       "    </tr>\n",
       "  </tbody>\n",
       "</table>\n",
       "</div>"
      ],
      "text/plain": [
       "          total_sales\n",
       "platform             \n",
       "PS4            314.14\n",
       "PS3            181.43\n",
       "XOne           159.32\n",
       "3DS            143.25\n",
       "X360           136.80\n",
       "WiiU            64.63\n",
       "PC              39.43\n",
       "PSV             32.99\n",
       "Wii             13.66\n",
       "PSP              3.50\n",
       "DS               1.54"
      ]
     },
     "execution_count": 27,
     "metadata": {},
     "output_type": "execute_result"
    }
   ],
   "source": [
    "top_sales_platforms = games_actual.pivot_table(index='platform', values='total_sales', aggfunc='sum')\n",
    "top_sales_platforms_sorted = top_sales_platforms.sort_values(by='total_sales', ascending=False)\n",
    "top_sales_platforms_sorted"
   ]
  },
  {
   "cell_type": "markdown",
   "metadata": {},
   "source": [
    "Выберем первые 10 платформ и пострим распределения по ним."
   ]
  },
  {
   "cell_type": "code",
   "execution_count": 28,
   "metadata": {},
   "outputs": [
    {
     "data": {
      "text/plain": [
       "['PS4', 'PS3', 'XOne', '3DS', 'X360', 'WiiU', 'PC', 'PSV', 'Wii', 'PSP']"
      ]
     },
     "execution_count": 28,
     "metadata": {},
     "output_type": "execute_result"
    }
   ],
   "source": [
    "top_platforms = top_sales_platforms_sorted.index.tolist()[:10]\n",
    "top_platforms"
   ]
  },
  {
   "cell_type": "markdown",
   "metadata": {},
   "source": [
    "Выведем график продаж для этого периода."
   ]
  },
  {
   "cell_type": "code",
   "execution_count": 29,
   "metadata": {
    "scrolled": false
   },
   "outputs": [
    {
     "data": {
      "image/png": "[encoded data removed]",
      "text/plain": [
       "<Figure size 720x504 with 1 Axes>"
      ]
     },
     "metadata": {
      "needs_background": "light"
     },
     "output_type": "display_data"
    }
   ],
   "source": [
    "games_actual = games_actual.query('platform in @top_platforms')\n",
    "plt.figure(figsize = (10, 7))\n",
    "for platform in top_platforms:\n",
    "    platform_pivot_table = (games_actual\n",
    "                            .query('platform == @platform')\n",
    "                            .pivot_table(index='year_of_release', \n",
    "                                         values='total_sales', \n",
    "                                         aggfunc='sum')\n",
    "                           )\n",
    "    ax = plt.plot(platform_pivot_table.index, platform_pivot_table.values, \"-o\", label=platform)\n",
    "    \n",
    "plt.grid()\n",
    "plt.xticks(range(2013, 2017)) \n",
    "plt.xlabel('Годы')\n",
    "plt.ylabel('Количество проданных игр в млн.')\n",
    "plt.title('Распределение продаж популярных платформ по годам')\n",
    "plt.legend()\n",
    "plt.show()"
   ]
  },
  {
   "cell_type": "markdown",
   "metadata": {},
   "source": [
    "Среди платформ лидируют PS4 и Xbox One. У всех платформ, кроме PS4 и Xbox One, начиная с 2013 года наблюдается постепенное снижение продаж. У PS4 и XOne продажи росли до 2015 года, про 2016 год трудно сказать, поскольку данные за этот год могут быть неполными. Потенциально прибыльными можно посчитать платформы PS4 и XOne."
   ]
  },
  {
   "cell_type": "markdown",
   "metadata": {},
   "source": [
    "#### Построим график «ящик с усами» по глобальным продажам игр в разбивке по платформам"
   ]
  },
  {
   "cell_type": "code",
   "execution_count": 30,
   "metadata": {},
   "outputs": [
    {
     "data": {
      "image/png": "[encoded data removed]",
      "text/plain": [
       "<Figure size 720x432 with 1 Axes>"
      ]
     },
     "metadata": {
      "needs_background": "light"
     },
     "output_type": "display_data"
    },
    {
     "data": {
      "image/png": "[encoded data removed]",
      "text/plain": [
       "<Figure size 720x432 with 1 Axes>"
      ]
     },
     "metadata": {
      "needs_background": "light"
     },
     "output_type": "display_data"
    }
   ],
   "source": [
    "plt.figure(figsize=(10, 6))\n",
    "sns.boxplot(x='platform', \n",
    "            y='total_sales', \n",
    "            data=games_actual, \n",
    "            palette='husl',\n",
    "            order=(games_actual\n",
    "                   .groupby('platform')['total_sales']\n",
    "                   .agg('median')\n",
    "                   .sort_values(ascending=False)\n",
    "                   .index)\n",
    "           )\n",
    "plt.title('Глобальные продажи игр в разбивке по платформам')\n",
    "plt.xlabel('Платформы')\n",
    "plt.ylabel('Количество продаж в млн.')\n",
    "plt.show()\n",
    "\n",
    "plt.figure(figsize=(10, 6))\n",
    "sns.boxplot(x='platform', \n",
    "            y='total_sales', \n",
    "            data=games_actual, \n",
    "            palette='husl',\n",
    "            order=(games_actual\n",
    "                   .groupby('platform')['total_sales']\n",
    "                   .agg('median')\n",
    "                   .sort_values(ascending=False)\n",
    "                   .index)\n",
    "           )\n",
    "plt.ylim(0,1.8)\n",
    "plt.title('Глобальные продажи игр в разбивке по платформам')\n",
    "plt.xlabel('Платформы')\n",
    "plt.ylabel('Количество продаж в млн.')\n",
    "plt.show()"
   ]
  },
  {
   "cell_type": "markdown",
   "metadata": {},
   "source": [
    "Судя по графику, можно сказать, что игры, выпущенные на платформах X360, PS4, Wii и XOne имеют наибольшие медианные значения количества глобальных продаж и наибольший межквартильный размах. Это значит, игра, выпущенная на одной из этих платформ, скорее всего будет иметь большее количество продаж по миру, чем игра, выпущенная на другой платформе. "
   ]
  },
  {
   "cell_type": "markdown",
   "metadata": {},
   "source": [
    "Также теперь можно заметить, что наиболее \"выстрелившие\" игры за актуальный период были выпущены на платформах PS3, 3DS, X360 и PS4."
   ]
  },
  {
   "cell_type": "markdown",
   "metadata": {},
   "source": [
    "#### Посмотрим, как влияют на продажи внутри одной популярной платформы отзывы пользователей и критиков"
   ]
  },
  {
   "cell_type": "markdown",
   "metadata": {},
   "source": [
    "Построим график рассеяния, чтобы посмотреть зависимость продаж платформы PS4 от оценок пользователей. Также выведем корреляцию между этими величинами."
   ]
  },
  {
   "cell_type": "code",
   "execution_count": 31,
   "metadata": {},
   "outputs": [
    {
     "data": {
      "image/png": "[encoded data removed]",
      "text/plain": [
       "<Figure size 432x288 with 1 Axes>"
      ]
     },
     "metadata": {
      "needs_background": "light"
     },
     "output_type": "display_data"
    }
   ],
   "source": [
    "plt.scatter(x='user_score', y='total_sales', data=games_actual.query('platform == \"PS4\" and user_score > -1'))\n",
    "plt.grid()\n",
    "plt.xlabel('Оценка пользователей')\n",
    "plt.ylabel('Количество продаж в млн.')\n",
    "plt.title('Связь продаж и оценки пользователей')\n",
    "plt.show()"
   ]
  },
  {
   "cell_type": "code",
   "execution_count": 32,
   "metadata": {},
   "outputs": [
    {
     "data": {
      "text/plain": [
       "-0.031957110204556376"
      ]
     },
     "execution_count": 32,
     "metadata": {},
     "output_type": "execute_result"
    }
   ],
   "source": [
    "# games_actual.query('platform == \"PS4\"')['user_score'].corr(games_actual.query('platform == \"PS4\"')['total_sales'])\n",
    "games_actual.query('platform == \"PS4\" and user_score > -1')['user_score'].corr(games_actual.query('platform == \"PS4\" and user_score > -1')['total_sales'])"
   ]
  },
  {
   "cell_type": "markdown",
   "metadata": {},
   "source": [
    "Связи между продажами игры и оценками пользователей не наблюдается."
   ]
  },
  {
   "cell_type": "markdown",
   "metadata": {},
   "source": [
    "Построим график рассеяния, чтобы посмотреть зависимость продаж платформы PS4 от оценок критиков. Также выведем корреляцию между этими величинами."
   ]
  },
  {
   "cell_type": "code",
   "execution_count": 33,
   "metadata": {},
   "outputs": [
    {
     "data": {
      "image/png": "[encoded data removed]",
      "text/plain": [
       "<Figure size 432x288 with 1 Axes>"
      ]
     },
     "metadata": {
      "needs_background": "light"
     },
     "output_type": "display_data"
    }
   ],
   "source": [
    "# plt.scatter(x='critic_score', y='total_sales', data=games_actual.query('platform == \"PS4\" and user_score > -1'))\n",
    "plt.scatter(x='critic_score', y='total_sales', data=games_actual.query('platform == \"PS4\" and critic_score > -1'))\n",
    "plt.grid()\n",
    "plt.xlabel('Оценка критиков')\n",
    "plt.ylabel('Количество продаж в млн.')\n",
    "plt.title('Связь продаж и оценки критиков')\n",
    "plt.show()"
   ]
  },
  {
   "cell_type": "code",
   "execution_count": 34,
   "metadata": {},
   "outputs": [
    {
     "data": {
      "text/plain": [
       "0.40656790206178095"
      ]
     },
     "execution_count": 34,
     "metadata": {},
     "output_type": "execute_result"
    }
   ],
   "source": [
    "# games_actual.query('platform == \"PS4\"')['critic_score'].corr(games_actual.query('platform == \"PS4\"')['total_sales'])\n",
    "\n",
    "games_actual.query('platform == \"PS4\" and critic_score > -1')['critic_score'].corr(games_actual.query('platform == \"PS4\" and critic_score > -1')['total_sales'])"
   ]
  },
  {
   "cell_type": "markdown",
   "metadata": {},
   "source": [
    "Между продажами игры и оценками критиков наблюдается слабая связь. Можно отметить, что игры, у которых было продано более 2 миллионов копий, обычно имеют оценку критиков не менее 70 баллов из 100, но не наоборот. Также можно заметить, что у игр, получивших менее 50 баллов от критиков, количество продаж заметно меньше 1 миллиона."
   ]
  },
  {
   "cell_type": "markdown",
   "metadata": {},
   "source": [
    "#### Соотнесём выводы с продажами игр на других платформах"
   ]
  },
  {
   "cell_type": "markdown",
   "metadata": {},
   "source": [
    "Для этого построим диаграммы рассеяния и посчитаем корреляции для трёх других платформ."
   ]
  },
  {
   "cell_type": "code",
   "execution_count": 35,
   "metadata": {
    "scrolled": false
   },
   "outputs": [
    {
     "data": {
      "image/png": "[encoded data removed]",
      "text/plain": [
       "<Figure size 432x288 with 1 Axes>"
      ]
     },
     "metadata": {
      "needs_background": "light"
     },
     "output_type": "display_data"
    },
    {
     "name": "stdout",
     "output_type": "stream",
     "text": [
      "Корреляция между оценкой пользователей и продажами PS3: 0.0023944027357566925\n"
     ]
    },
    {
     "data": {
      "image/png": "[encoded data removed]",
      "text/plain": [
       "<Figure size 432x288 with 1 Axes>"
      ]
     },
     "metadata": {
      "needs_background": "light"
     },
     "output_type": "display_data"
    },
    {
     "name": "stdout",
     "output_type": "stream",
     "text": [
      "Корреляция между оценкой критиков и продажами PS3: 0.3342853393371919\n",
      "\n",
      "\n",
      "\n"
     ]
    },
    {
     "data": {
      "image/png": "[encoded data removed]",
      "text/plain": [
       "<Figure size 432x288 with 1 Axes>"
      ]
     },
     "metadata": {
      "needs_background": "light"
     },
     "output_type": "display_data"
    },
    {
     "name": "stdout",
     "output_type": "stream",
     "text": [
      "Корреляция между оценкой пользователей и продажами X360: -0.011742185147181342\n"
     ]
    },
    {
     "data": {
      "image/png": "[encoded data removed]",
      "text/plain": [
       "<Figure size 432x288 with 1 Axes>"
      ]
     },
     "metadata": {
      "needs_background": "light"
     },
     "output_type": "display_data"
    },
    {
     "name": "stdout",
     "output_type": "stream",
     "text": [
      "Корреляция между оценкой критиков и продажами X360: 0.3503445460228664\n",
      "\n",
      "\n",
      "\n"
     ]
    },
    {
     "data": {
      "image/png": "[encoded data removed]",
      "text/plain": [
       "<Figure size 432x288 with 1 Axes>"
      ]
     },
     "metadata": {
      "needs_background": "light"
     },
     "output_type": "display_data"
    },
    {
     "name": "stdout",
     "output_type": "stream",
     "text": [
      "Корреляция между оценкой пользователей и продажами 3DS: 0.24150411773563016\n"
     ]
    },
    {
     "data": {
      "image/png": "[encoded data removed]",
      "text/plain": [
       "<Figure size 432x288 with 1 Axes>"
      ]
     },
     "metadata": {
      "needs_background": "light"
     },
     "output_type": "display_data"
    },
    {
     "name": "stdout",
     "output_type": "stream",
     "text": [
      "Корреляция между оценкой критиков и продажами 3DS: 0.3570566142288103\n",
      "\n",
      "\n",
      "\n"
     ]
    }
   ],
   "source": [
    "platforms = ['PS3', 'X360', '3DS']\n",
    "for platform in platforms:\n",
    "    actual_platform = games_actual.query('platform == @platform and user_score > -1')\n",
    "    plt.scatter(x='user_score', y='total_sales', data=actual_platform)\n",
    "    plt.grid()\n",
    "    plt.xlabel('Оценка пользователей')\n",
    "    plt.ylabel('Количество продаж в млн.')\n",
    "    plt.title(f'Связь продаж {platform} и оценки пользователей')\n",
    "    plt.show()\n",
    "    \n",
    "    sales_user_score_corr = actual_platform['user_score'].corr(actual_platform['total_sales'])\n",
    "    print(f'Корреляция между оценкой пользователей и продажами {platform}: {sales_user_score_corr}')\n",
    "    \n",
    "    actual_platform = games_actual.query('platform == @platform and critic_score > -1')\n",
    "    plt.scatter(x='critic_score', y='total_sales', data=actual_platform)\n",
    "    plt.grid()\n",
    "    plt.xlabel('Оценка критиков')\n",
    "    plt.ylabel('Количество продаж в млн.')\n",
    "    plt.title(f'Связь продаж {platform} и оценки критиков')\n",
    "    plt.show()\n",
    "    \n",
    "    sales_critic_score_corr = actual_platform['critic_score'].corr(actual_platform['total_sales'])\n",
    "    print(f'Корреляция между оценкой критиков и продажами {platform}: {sales_critic_score_corr}')\n",
    "    print('\\n\\n')\n"
   ]
  },
  {
   "cell_type": "markdown",
   "metadata": {},
   "source": [
    "Полученные графики и величины корреляции согласуются с предыдущими наблюдениями."
   ]
  },
  {
   "cell_type": "markdown",
   "metadata": {},
   "source": [
    "####  Посмотрим на общее распределение игр по жанрам"
   ]
  },
  {
   "cell_type": "code",
   "execution_count": 36,
   "metadata": {},
   "outputs": [
    {
     "data": {
      "image/png": "[encoded data removed]",
      "text/plain": [
       "<Figure size 504x504 with 1 Axes>"
      ]
     },
     "metadata": {},
     "output_type": "display_data"
    }
   ],
   "source": [
    "genre_distribution = games_actual.pivot_table(index='genre', values='total_sales', aggfunc='count')\n",
    "plot = genre_distribution.plot.pie(y='total_sales', figsize=(7, 7), autopct='%1.1f%%')\n",
    "plt.xlabel('')\n",
    "plt.ylabel('')\n",
    "plt.title('Распределение игр по жанрам')\n",
    "plt.legend('', frameon=False)\n",
    "plt.show()"
   ]
  },
  {
   "cell_type": "code",
   "execution_count": 37,
   "metadata": {},
   "outputs": [
    {
     "data": {
      "image/png": "[encoded data removed]",
      "text/plain": [
       "<Figure size 504x504 with 1 Axes>"
      ]
     },
     "metadata": {},
     "output_type": "display_data"
    }
   ],
   "source": [
    "genre_distribution = games_actual.pivot_table(index='genre', values='total_sales', aggfunc='sum')\n",
    "plot = genre_distribution.plot.pie(y='total_sales', figsize=(7, 7), autopct='%1.1f%%')\n",
    "plt.xlabel('')\n",
    "plt.ylabel('')\n",
    "plt.title('Распределение продаж по жанрам игр')\n",
    "plt.legend('', frameon=False)\n",
    "plt.show()"
   ]
  },
  {
   "cell_type": "markdown",
   "metadata": {},
   "source": [
    "Наиболее частыми и популярными жанрами игр являются action, role-playing, sports и shooter. <br>\n",
    "Можно отметить, что доля игр жанра shooter от всех выпущенных игр за актуальный период составляет 8.4%, в то время как доля проданных копий игр этого жанра составляет уже 21.4% - очевидно, жанр популярен среди пользователей. С играми жанра adventure ситуация противоположная: игры этого жанра занимают 11% от всех выпущенных игр, но доля от продаж - всего лишь 2.2%."
   ]
  },
  {
   "cell_type": "markdown",
   "metadata": {},
   "source": [
    "Сравним медианные продажи и построим соотвествующие диаграммы размаха, чтобы определить наиболее стабильные прибыльные жанры среди пользователей."
   ]
  },
  {
   "cell_type": "code",
   "execution_count": 38,
   "metadata": {},
   "outputs": [
    {
     "data": {
      "image/png": "[encoded data removed]",
      "text/plain": [
       "<Figure size 720x432 with 1 Axes>"
      ]
     },
     "metadata": {
      "needs_background": "light"
     },
     "output_type": "display_data"
    },
    {
     "data": {
      "image/png": "[encoded data removed]",
      "text/plain": [
       "<Figure size 720x432 with 1 Axes>"
      ]
     },
     "metadata": {
      "needs_background": "light"
     },
     "output_type": "display_data"
    }
   ],
   "source": [
    "plt.figure(figsize=(10, 6))\n",
    "sns.boxplot(x='genre', \n",
    "            y='total_sales', \n",
    "            data=games_actual, \n",
    "            palette='husl',\n",
    "            order=(games_actual\n",
    "                   .groupby('genre')['total_sales']\n",
    "                   .agg('median')\n",
    "                   .sort_values(ascending=False)\n",
    "                   .index)\n",
    "           )\n",
    "plt.title('Распределение продаж по жанрам')\n",
    "plt.xlabel('Жанры')\n",
    "plt.ylabel('Количество продаж в млн.')\n",
    "plt.xticks(rotation=45)\n",
    "plt.show()\n",
    "\n",
    "\n",
    "plt.figure(figsize=(10, 6))\n",
    "sns.boxplot(x='genre', \n",
    "            y='total_sales', \n",
    "            data=games_actual, \n",
    "            palette='husl',\n",
    "            order=(games_actual\n",
    "                   .groupby('genre')['total_sales']\n",
    "                   .agg('median')\n",
    "                   .sort_values(ascending=False)\n",
    "                   .index)\n",
    "           )\n",
    "plt.ylim(0, 4)\n",
    "plt.title('Распределение продаж по жанрам')\n",
    "plt.xlabel('Жанры')\n",
    "plt.ylabel('Количество продаж в млн.')\n",
    "plt.xticks(rotation=45)\n",
    "plt.show()"
   ]
  },
  {
   "cell_type": "markdown",
   "metadata": {},
   "source": [
    "Максимальные продажи имеют игры жанра 'Action', 'Role-Playing' и 'Shooter', однако наиболее стабильный спрос наблюдается на игры жанра 'Shooter', 'Sports', 'Platform': медианные продажи игр из этих жанров выше остальных. Значит, доход от игр жанров 'Shooter', 'Sports', 'Platform' стабильнее, чем от игр жанров 'Action', 'Role-Playing'."
   ]
  },
  {
   "cell_type": "markdown",
   "metadata": {},
   "source": [
    "### Составим портрет пользователя каждого региона"
   ]
  },
  {
   "cell_type": "markdown",
   "metadata": {},
   "source": [
    "#### Найдем самые популярные платформы в каждом регионе"
   ]
  },
  {
   "cell_type": "markdown",
   "metadata": {},
   "source": [
    "Напишем функцию, которая позволит найти топ-5 платформ для каждого региона."
   ]
  },
  {
   "cell_type": "code",
   "execution_count": 39,
   "metadata": {},
   "outputs": [],
   "source": [
    "def popular_platforms(df, region):\n",
    "    top_platforms = df.pivot_table(index='platform', values=region, aggfunc='sum')\n",
    "    top_platforms = top_platforms.sort_values(by=region, ascending=False)\n",
    "    top_five = top_platforms.index.tolist()[:5]\n",
    "    print(f'Самые популярные плафтормы в {region.split(\"_\")[0].upper()}: {top_five}')"
   ]
  },
  {
   "cell_type": "code",
   "execution_count": 40,
   "metadata": {},
   "outputs": [
    {
     "name": "stdout",
     "output_type": "stream",
     "text": [
      "Самые популярные плафтормы в EU: ['PS4', 'PS3', 'XOne', 'X360', '3DS']\n",
      "Самые популярные плафтормы в JP: ['3DS', 'PS3', 'PSV', 'PS4', 'WiiU']\n",
      "Самые популярные плафтормы в NA: ['PS4', 'XOne', 'X360', 'PS3', '3DS']\n"
     ]
    }
   ],
   "source": [
    "for region in ['eu_sales', 'jp_sales', 'na_sales']:\n",
    "    popular_platforms(games_actual, region)"
   ]
  },
  {
   "cell_type": "markdown",
   "metadata": {},
   "source": [
    "Добавим столбцы, в которых категоризируем плафтормы по каждому региону: если название платформы не входит в топ-5 по своему региону, то в столбец записывается \"Другое\", если входит - копируется название. "
   ]
  },
  {
   "cell_type": "code",
   "execution_count": 41,
   "metadata": {},
   "outputs": [],
   "source": [
    "def eu_top_platforms_category(df):\n",
    "    if df['platform'] in ['PS4', 'PS3', 'XOne', 'X360', '3DS']:\n",
    "        return df['platform']\n",
    "    else:\n",
    "        return 'Другое'\n",
    "    \n",
    "def jp_top_platforms_category(df):\n",
    "    if df['platform'] in ['3DS', 'PS3', 'PSV', 'PS4', 'WiiU']:\n",
    "        return df['platform']\n",
    "    else:\n",
    "        return 'Другое'\n",
    "\n",
    "def na_top_platforms_category(df):\n",
    "    if df['platform'] in ['PS4', 'XOne', 'X360', 'PS3', '3DS']:\n",
    "        return df['platform']\n",
    "    else:\n",
    "        return 'Другое'"
   ]
  },
  {
   "cell_type": "code",
   "execution_count": 42,
   "metadata": {
    "scrolled": true
   },
   "outputs": [],
   "source": [
    "games_actual['eu_top_platforms'] = games_actual.apply(eu_top_platforms_category, axis=1)\n",
    "games_actual['jp_top_platforms'] = games_actual.apply(jp_top_platforms_category, axis=1)\n",
    "games_actual['na_top_platforms'] = games_actual.apply(na_top_platforms_category, axis=1)"
   ]
  },
  {
   "cell_type": "code",
   "execution_count": 43,
   "metadata": {},
   "outputs": [
    {
     "data": {
      "text/html": [
       "<div>\n",
       "<style scoped>\n",
       "    .dataframe tbody tr th:only-of-type {\n",
       "        vertical-align: middle;\n",
       "    }\n",
       "\n",
       "    .dataframe tbody tr th {\n",
       "        vertical-align: top;\n",
       "    }\n",
       "\n",
       "    .dataframe thead th {\n",
       "        text-align: right;\n",
       "    }\n",
       "</style>\n",
       "<table border=\"1\" class=\"dataframe\">\n",
       "  <thead>\n",
       "    <tr style=\"text-align: right;\">\n",
       "      <th></th>\n",
       "      <th>name</th>\n",
       "      <th>platform</th>\n",
       "      <th>year_of_release</th>\n",
       "      <th>genre</th>\n",
       "      <th>na_sales</th>\n",
       "      <th>eu_sales</th>\n",
       "      <th>jp_sales</th>\n",
       "      <th>other_sales</th>\n",
       "      <th>critic_score</th>\n",
       "      <th>user_score</th>\n",
       "      <th>rating</th>\n",
       "      <th>total_sales</th>\n",
       "      <th>eu_top_platforms</th>\n",
       "      <th>jp_top_platforms</th>\n",
       "      <th>na_top_platforms</th>\n",
       "    </tr>\n",
       "  </thead>\n",
       "  <tbody>\n",
       "    <tr>\n",
       "      <th>16</th>\n",
       "      <td>Grand Theft Auto V</td>\n",
       "      <td>PS3</td>\n",
       "      <td>2013</td>\n",
       "      <td>Action</td>\n",
       "      <td>7.02</td>\n",
       "      <td>9.09</td>\n",
       "      <td>0.98</td>\n",
       "      <td>3.96</td>\n",
       "      <td>97</td>\n",
       "      <td>8.2</td>\n",
       "      <td>M</td>\n",
       "      <td>21.05</td>\n",
       "      <td>PS3</td>\n",
       "      <td>PS3</td>\n",
       "      <td>PS3</td>\n",
       "    </tr>\n",
       "    <tr>\n",
       "      <th>23</th>\n",
       "      <td>Grand Theft Auto V</td>\n",
       "      <td>X360</td>\n",
       "      <td>2013</td>\n",
       "      <td>Action</td>\n",
       "      <td>9.66</td>\n",
       "      <td>5.14</td>\n",
       "      <td>0.06</td>\n",
       "      <td>1.41</td>\n",
       "      <td>97</td>\n",
       "      <td>8.1</td>\n",
       "      <td>M</td>\n",
       "      <td>16.27</td>\n",
       "      <td>X360</td>\n",
       "      <td>Другое</td>\n",
       "      <td>X360</td>\n",
       "    </tr>\n",
       "    <tr>\n",
       "      <th>31</th>\n",
       "      <td>Call of Duty: Black Ops 3</td>\n",
       "      <td>PS4</td>\n",
       "      <td>2015</td>\n",
       "      <td>Shooter</td>\n",
       "      <td>6.03</td>\n",
       "      <td>5.86</td>\n",
       "      <td>0.36</td>\n",
       "      <td>2.38</td>\n",
       "      <td>-1</td>\n",
       "      <td>-1.0</td>\n",
       "      <td>no_data</td>\n",
       "      <td>14.63</td>\n",
       "      <td>PS4</td>\n",
       "      <td>PS4</td>\n",
       "      <td>PS4</td>\n",
       "    </tr>\n",
       "    <tr>\n",
       "      <th>33</th>\n",
       "      <td>Pokemon X/Pokemon Y</td>\n",
       "      <td>3DS</td>\n",
       "      <td>2013</td>\n",
       "      <td>Role-Playing</td>\n",
       "      <td>5.28</td>\n",
       "      <td>4.19</td>\n",
       "      <td>4.35</td>\n",
       "      <td>0.78</td>\n",
       "      <td>-1</td>\n",
       "      <td>-1.0</td>\n",
       "      <td>no_data</td>\n",
       "      <td>14.60</td>\n",
       "      <td>3DS</td>\n",
       "      <td>3DS</td>\n",
       "      <td>3DS</td>\n",
       "    </tr>\n",
       "    <tr>\n",
       "      <th>42</th>\n",
       "      <td>Grand Theft Auto V</td>\n",
       "      <td>PS4</td>\n",
       "      <td>2014</td>\n",
       "      <td>Action</td>\n",
       "      <td>3.96</td>\n",
       "      <td>6.31</td>\n",
       "      <td>0.38</td>\n",
       "      <td>1.97</td>\n",
       "      <td>97</td>\n",
       "      <td>8.3</td>\n",
       "      <td>M</td>\n",
       "      <td>12.62</td>\n",
       "      <td>PS4</td>\n",
       "      <td>PS4</td>\n",
       "      <td>PS4</td>\n",
       "    </tr>\n",
       "    <tr>\n",
       "      <th>...</th>\n",
       "      <td>...</td>\n",
       "      <td>...</td>\n",
       "      <td>...</td>\n",
       "      <td>...</td>\n",
       "      <td>...</td>\n",
       "      <td>...</td>\n",
       "      <td>...</td>\n",
       "      <td>...</td>\n",
       "      <td>...</td>\n",
       "      <td>...</td>\n",
       "      <td>...</td>\n",
       "      <td>...</td>\n",
       "      <td>...</td>\n",
       "      <td>...</td>\n",
       "      <td>...</td>\n",
       "    </tr>\n",
       "    <tr>\n",
       "      <th>16703</th>\n",
       "      <td>Strawberry Nauts</td>\n",
       "      <td>PSV</td>\n",
       "      <td>2016</td>\n",
       "      <td>Adventure</td>\n",
       "      <td>0.00</td>\n",
       "      <td>0.00</td>\n",
       "      <td>0.01</td>\n",
       "      <td>0.00</td>\n",
       "      <td>-1</td>\n",
       "      <td>-1.0</td>\n",
       "      <td>no_data</td>\n",
       "      <td>0.01</td>\n",
       "      <td>Другое</td>\n",
       "      <td>PSV</td>\n",
       "      <td>Другое</td>\n",
       "    </tr>\n",
       "    <tr>\n",
       "      <th>16707</th>\n",
       "      <td>Aiyoku no Eustia</td>\n",
       "      <td>PSV</td>\n",
       "      <td>2014</td>\n",
       "      <td>Misc</td>\n",
       "      <td>0.00</td>\n",
       "      <td>0.00</td>\n",
       "      <td>0.01</td>\n",
       "      <td>0.00</td>\n",
       "      <td>-1</td>\n",
       "      <td>-1.0</td>\n",
       "      <td>no_data</td>\n",
       "      <td>0.01</td>\n",
       "      <td>Другое</td>\n",
       "      <td>PSV</td>\n",
       "      <td>Другое</td>\n",
       "    </tr>\n",
       "    <tr>\n",
       "      <th>16710</th>\n",
       "      <td>Samurai Warriors: Sanada Maru</td>\n",
       "      <td>PS3</td>\n",
       "      <td>2016</td>\n",
       "      <td>Action</td>\n",
       "      <td>0.00</td>\n",
       "      <td>0.00</td>\n",
       "      <td>0.01</td>\n",
       "      <td>0.00</td>\n",
       "      <td>-1</td>\n",
       "      <td>-1.0</td>\n",
       "      <td>no_data</td>\n",
       "      <td>0.01</td>\n",
       "      <td>PS3</td>\n",
       "      <td>PS3</td>\n",
       "      <td>PS3</td>\n",
       "    </tr>\n",
       "    <tr>\n",
       "      <th>16712</th>\n",
       "      <td>Haitaka no Psychedelica</td>\n",
       "      <td>PSV</td>\n",
       "      <td>2016</td>\n",
       "      <td>Adventure</td>\n",
       "      <td>0.00</td>\n",
       "      <td>0.00</td>\n",
       "      <td>0.01</td>\n",
       "      <td>0.00</td>\n",
       "      <td>-1</td>\n",
       "      <td>-1.0</td>\n",
       "      <td>no_data</td>\n",
       "      <td>0.01</td>\n",
       "      <td>Другое</td>\n",
       "      <td>PSV</td>\n",
       "      <td>Другое</td>\n",
       "    </tr>\n",
       "    <tr>\n",
       "      <th>16714</th>\n",
       "      <td>Winning Post 8 2016</td>\n",
       "      <td>PSV</td>\n",
       "      <td>2016</td>\n",
       "      <td>Simulation</td>\n",
       "      <td>0.00</td>\n",
       "      <td>0.00</td>\n",
       "      <td>0.01</td>\n",
       "      <td>0.00</td>\n",
       "      <td>-1</td>\n",
       "      <td>-1.0</td>\n",
       "      <td>no_data</td>\n",
       "      <td>0.01</td>\n",
       "      <td>Другое</td>\n",
       "      <td>PSV</td>\n",
       "      <td>Другое</td>\n",
       "    </tr>\n",
       "  </tbody>\n",
       "</table>\n",
       "<p>2225 rows × 15 columns</p>\n",
       "</div>"
      ],
      "text/plain": [
       "                                name platform  year_of_release         genre  \\\n",
       "16                Grand Theft Auto V      PS3             2013        Action   \n",
       "23                Grand Theft Auto V     X360             2013        Action   \n",
       "31         Call of Duty: Black Ops 3      PS4             2015       Shooter   \n",
       "33               Pokemon X/Pokemon Y      3DS             2013  Role-Playing   \n",
       "42                Grand Theft Auto V      PS4             2014        Action   \n",
       "...                              ...      ...              ...           ...   \n",
       "16703               Strawberry Nauts      PSV             2016     Adventure   \n",
       "16707               Aiyoku no Eustia      PSV             2014          Misc   \n",
       "16710  Samurai Warriors: Sanada Maru      PS3             2016        Action   \n",
       "16712        Haitaka no Psychedelica      PSV             2016     Adventure   \n",
       "16714            Winning Post 8 2016      PSV             2016    Simulation   \n",
       "\n",
       "       na_sales  eu_sales  jp_sales  other_sales  critic_score  user_score  \\\n",
       "16         7.02      9.09      0.98         3.96            97         8.2   \n",
       "23         9.66      5.14      0.06         1.41            97         8.1   \n",
       "31         6.03      5.86      0.36         2.38            -1        -1.0   \n",
       "33         5.28      4.19      4.35         0.78            -1        -1.0   \n",
       "42         3.96      6.31      0.38         1.97            97         8.3   \n",
       "...         ...       ...       ...          ...           ...         ...   \n",
       "16703      0.00      0.00      0.01         0.00            -1        -1.0   \n",
       "16707      0.00      0.00      0.01         0.00            -1        -1.0   \n",
       "16710      0.00      0.00      0.01         0.00            -1        -1.0   \n",
       "16712      0.00      0.00      0.01         0.00            -1        -1.0   \n",
       "16714      0.00      0.00      0.01         0.00            -1        -1.0   \n",
       "\n",
       "        rating  total_sales eu_top_platforms jp_top_platforms na_top_platforms  \n",
       "16           M        21.05              PS3              PS3              PS3  \n",
       "23           M        16.27             X360           Другое             X360  \n",
       "31     no_data        14.63              PS4              PS4              PS4  \n",
       "33     no_data        14.60              3DS              3DS              3DS  \n",
       "42           M        12.62              PS4              PS4              PS4  \n",
       "...        ...          ...              ...              ...              ...  \n",
       "16703  no_data         0.01           Другое              PSV           Другое  \n",
       "16707  no_data         0.01           Другое              PSV           Другое  \n",
       "16710  no_data         0.01              PS3              PS3              PS3  \n",
       "16712  no_data         0.01           Другое              PSV           Другое  \n",
       "16714  no_data         0.01           Другое              PSV           Другое  \n",
       "\n",
       "[2225 rows x 15 columns]"
      ]
     },
     "execution_count": 43,
     "metadata": {},
     "output_type": "execute_result"
    }
   ],
   "source": [
    "games_actual"
   ]
  },
  {
   "cell_type": "markdown",
   "metadata": {},
   "source": [
    "Теперь можно вывести круговые диаграммы по каждому региону."
   ]
  },
  {
   "cell_type": "code",
   "execution_count": 44,
   "metadata": {
    "scrolled": true
   },
   "outputs": [
    {
     "data": {
      "image/png": "[encoded data removed]",
      "text/plain": [
       "<Figure size 1080x1080 with 3 Axes>"
      ]
     },
     "metadata": {},
     "output_type": "display_data"
    }
   ],
   "source": [
    "fig, axs = plt.subplots(nrows= 1, ncols= 3, figsize=(15, 15))\n",
    "col = 0\n",
    "for column in ['na_top_platforms', 'eu_top_platforms', 'jp_top_platforms']:\n",
    "    platforms_distribution = games_actual.pivot_table(index=column, values=column.split(\"_\")[0]+'_sales', aggfunc='sum')\n",
    "    axs[col].pie(platforms_distribution[column.split(\"_\")[0]+'_sales'], labels=platforms_distribution.index, autopct='%1.1f%%', )\n",
    "    axs[col].set_title('Топ-5 платформ в регионе '+column.split(\"_\")[0].upper())\n",
    "    col +=1\n",
    "plt.show()"
   ]
  },
  {
   "cell_type": "markdown",
   "metadata": {},
   "source": [
    "Топ-5 платформ в Северной Америке и Европе совпадают (PS4, PS3, XOne, X360, 3DS) и в обоих регионах самой популярной платформой явялется PS4. Распределение платформ в Японии принципиально отчается: самой популярной здесь является 3DS, почти половина (48.2%) купленных там игр было выпущено на этой платформе. В относительно равных долях находятся PS3, PS4 и  PSV."
   ]
  },
  {
   "cell_type": "markdown",
   "metadata": {},
   "source": [
    "#### Определим топ-5 жанров в каждом регионе"
   ]
  },
  {
   "cell_type": "markdown",
   "metadata": {},
   "source": [
    "Таким же образом, как и в предыдущем пункте, определим необходимые функции, проведём категоризацию и выведем круговые диаграммы."
   ]
  },
  {
   "cell_type": "code",
   "execution_count": 45,
   "metadata": {},
   "outputs": [],
   "source": [
    "def popular_genres(df, region):\n",
    "    top_genres = df.pivot_table(index='genre', values=region, aggfunc='sum')\n",
    "    top_genres = top_genres.sort_values(by=region, ascending=False)\n",
    "    top_five = top_genres.index.tolist()[:5]\n",
    "    print(f'Самые популярные жанры в {region.split(\"_\")[0].upper()}: {top_five}')"
   ]
  },
  {
   "cell_type": "code",
   "execution_count": 46,
   "metadata": {},
   "outputs": [
    {
     "name": "stdout",
     "output_type": "stream",
     "text": [
      "Самые популярные жанры в EU: ['Action', 'Shooter', 'Sports', 'Role-Playing', 'Racing']\n",
      "Самые популярные жанры в JP: ['Role-Playing', 'Action', 'Misc', 'Fighting', 'Shooter']\n",
      "Самые популярные жанры в NA: ['Action', 'Shooter', 'Sports', 'Role-Playing', 'Misc']\n"
     ]
    }
   ],
   "source": [
    "for region in ['eu_sales', 'jp_sales', 'na_sales']:\n",
    "    popular_genres(games_actual, region)"
   ]
  },
  {
   "cell_type": "code",
   "execution_count": 47,
   "metadata": {},
   "outputs": [],
   "source": [
    "def eu_top_genres_category(df):\n",
    "    if df['genre'] in ['Action', 'Shooter', 'Sports', 'Role-Playing', 'Racing']:\n",
    "        return df['genre']\n",
    "    else:\n",
    "        return 'Другое'\n",
    "    \n",
    "def jp_top_genres_category(df):\n",
    "    if df['genre'] in ['Role-Playing', 'Action', 'Misc', 'Fighting', 'Shooter']:\n",
    "        return df['genre']\n",
    "    else:\n",
    "        return 'Другое'\n",
    "\n",
    "def na_top_genres_category(df):\n",
    "    if df['genre'] in ['Action', 'Shooter', 'Sports', 'Role-Playing', 'Misc']:\n",
    "        return df['genre']\n",
    "    else:\n",
    "        return 'Другое'"
   ]
  },
  {
   "cell_type": "code",
   "execution_count": 48,
   "metadata": {},
   "outputs": [],
   "source": [
    "games_actual['eu_top_genres'] = games_actual.apply(eu_top_genres_category, axis=1)\n",
    "games_actual['jp_top_genres'] = games_actual.apply(jp_top_genres_category, axis=1)\n",
    "games_actual['na_top_genres'] = games_actual.apply(na_top_genres_category, axis=1)"
   ]
  },
  {
   "cell_type": "code",
   "execution_count": 49,
   "metadata": {},
   "outputs": [
    {
     "data": {
      "text/html": [
       "<div>\n",
       "<style scoped>\n",
       "    .dataframe tbody tr th:only-of-type {\n",
       "        vertical-align: middle;\n",
       "    }\n",
       "\n",
       "    .dataframe tbody tr th {\n",
       "        vertical-align: top;\n",
       "    }\n",
       "\n",
       "    .dataframe thead th {\n",
       "        text-align: right;\n",
       "    }\n",
       "</style>\n",
       "<table border=\"1\" class=\"dataframe\">\n",
       "  <thead>\n",
       "    <tr style=\"text-align: right;\">\n",
       "      <th></th>\n",
       "      <th>name</th>\n",
       "      <th>platform</th>\n",
       "      <th>year_of_release</th>\n",
       "      <th>genre</th>\n",
       "      <th>na_sales</th>\n",
       "      <th>eu_sales</th>\n",
       "      <th>jp_sales</th>\n",
       "      <th>other_sales</th>\n",
       "      <th>critic_score</th>\n",
       "      <th>user_score</th>\n",
       "      <th>rating</th>\n",
       "      <th>total_sales</th>\n",
       "      <th>eu_top_platforms</th>\n",
       "      <th>jp_top_platforms</th>\n",
       "      <th>na_top_platforms</th>\n",
       "      <th>eu_top_genres</th>\n",
       "      <th>jp_top_genres</th>\n",
       "      <th>na_top_genres</th>\n",
       "    </tr>\n",
       "  </thead>\n",
       "  <tbody>\n",
       "    <tr>\n",
       "      <th>16</th>\n",
       "      <td>Grand Theft Auto V</td>\n",
       "      <td>PS3</td>\n",
       "      <td>2013</td>\n",
       "      <td>Action</td>\n",
       "      <td>7.02</td>\n",
       "      <td>9.09</td>\n",
       "      <td>0.98</td>\n",
       "      <td>3.96</td>\n",
       "      <td>97</td>\n",
       "      <td>8.2</td>\n",
       "      <td>M</td>\n",
       "      <td>21.05</td>\n",
       "      <td>PS3</td>\n",
       "      <td>PS3</td>\n",
       "      <td>PS3</td>\n",
       "      <td>Action</td>\n",
       "      <td>Action</td>\n",
       "      <td>Action</td>\n",
       "    </tr>\n",
       "    <tr>\n",
       "      <th>23</th>\n",
       "      <td>Grand Theft Auto V</td>\n",
       "      <td>X360</td>\n",
       "      <td>2013</td>\n",
       "      <td>Action</td>\n",
       "      <td>9.66</td>\n",
       "      <td>5.14</td>\n",
       "      <td>0.06</td>\n",
       "      <td>1.41</td>\n",
       "      <td>97</td>\n",
       "      <td>8.1</td>\n",
       "      <td>M</td>\n",
       "      <td>16.27</td>\n",
       "      <td>X360</td>\n",
       "      <td>Другое</td>\n",
       "      <td>X360</td>\n",
       "      <td>Action</td>\n",
       "      <td>Action</td>\n",
       "      <td>Action</td>\n",
       "    </tr>\n",
       "    <tr>\n",
       "      <th>31</th>\n",
       "      <td>Call of Duty: Black Ops 3</td>\n",
       "      <td>PS4</td>\n",
       "      <td>2015</td>\n",
       "      <td>Shooter</td>\n",
       "      <td>6.03</td>\n",
       "      <td>5.86</td>\n",
       "      <td>0.36</td>\n",
       "      <td>2.38</td>\n",
       "      <td>-1</td>\n",
       "      <td>-1.0</td>\n",
       "      <td>no_data</td>\n",
       "      <td>14.63</td>\n",
       "      <td>PS4</td>\n",
       "      <td>PS4</td>\n",
       "      <td>PS4</td>\n",
       "      <td>Shooter</td>\n",
       "      <td>Shooter</td>\n",
       "      <td>Shooter</td>\n",
       "    </tr>\n",
       "    <tr>\n",
       "      <th>33</th>\n",
       "      <td>Pokemon X/Pokemon Y</td>\n",
       "      <td>3DS</td>\n",
       "      <td>2013</td>\n",
       "      <td>Role-Playing</td>\n",
       "      <td>5.28</td>\n",
       "      <td>4.19</td>\n",
       "      <td>4.35</td>\n",
       "      <td>0.78</td>\n",
       "      <td>-1</td>\n",
       "      <td>-1.0</td>\n",
       "      <td>no_data</td>\n",
       "      <td>14.60</td>\n",
       "      <td>3DS</td>\n",
       "      <td>3DS</td>\n",
       "      <td>3DS</td>\n",
       "      <td>Role-Playing</td>\n",
       "      <td>Role-Playing</td>\n",
       "      <td>Role-Playing</td>\n",
       "    </tr>\n",
       "    <tr>\n",
       "      <th>42</th>\n",
       "      <td>Grand Theft Auto V</td>\n",
       "      <td>PS4</td>\n",
       "      <td>2014</td>\n",
       "      <td>Action</td>\n",
       "      <td>3.96</td>\n",
       "      <td>6.31</td>\n",
       "      <td>0.38</td>\n",
       "      <td>1.97</td>\n",
       "      <td>97</td>\n",
       "      <td>8.3</td>\n",
       "      <td>M</td>\n",
       "      <td>12.62</td>\n",
       "      <td>PS4</td>\n",
       "      <td>PS4</td>\n",
       "      <td>PS4</td>\n",
       "      <td>Action</td>\n",
       "      <td>Action</td>\n",
       "      <td>Action</td>\n",
       "    </tr>\n",
       "    <tr>\n",
       "      <th>...</th>\n",
       "      <td>...</td>\n",
       "      <td>...</td>\n",
       "      <td>...</td>\n",
       "      <td>...</td>\n",
       "      <td>...</td>\n",
       "      <td>...</td>\n",
       "      <td>...</td>\n",
       "      <td>...</td>\n",
       "      <td>...</td>\n",
       "      <td>...</td>\n",
       "      <td>...</td>\n",
       "      <td>...</td>\n",
       "      <td>...</td>\n",
       "      <td>...</td>\n",
       "      <td>...</td>\n",
       "      <td>...</td>\n",
       "      <td>...</td>\n",
       "      <td>...</td>\n",
       "    </tr>\n",
       "    <tr>\n",
       "      <th>16703</th>\n",
       "      <td>Strawberry Nauts</td>\n",
       "      <td>PSV</td>\n",
       "      <td>2016</td>\n",
       "      <td>Adventure</td>\n",
       "      <td>0.00</td>\n",
       "      <td>0.00</td>\n",
       "      <td>0.01</td>\n",
       "      <td>0.00</td>\n",
       "      <td>-1</td>\n",
       "      <td>-1.0</td>\n",
       "      <td>no_data</td>\n",
       "      <td>0.01</td>\n",
       "      <td>Другое</td>\n",
       "      <td>PSV</td>\n",
       "      <td>Другое</td>\n",
       "      <td>Другое</td>\n",
       "      <td>Другое</td>\n",
       "      <td>Другое</td>\n",
       "    </tr>\n",
       "    <tr>\n",
       "      <th>16707</th>\n",
       "      <td>Aiyoku no Eustia</td>\n",
       "      <td>PSV</td>\n",
       "      <td>2014</td>\n",
       "      <td>Misc</td>\n",
       "      <td>0.00</td>\n",
       "      <td>0.00</td>\n",
       "      <td>0.01</td>\n",
       "      <td>0.00</td>\n",
       "      <td>-1</td>\n",
       "      <td>-1.0</td>\n",
       "      <td>no_data</td>\n",
       "      <td>0.01</td>\n",
       "      <td>Другое</td>\n",
       "      <td>PSV</td>\n",
       "      <td>Другое</td>\n",
       "      <td>Другое</td>\n",
       "      <td>Misc</td>\n",
       "      <td>Misc</td>\n",
       "    </tr>\n",
       "    <tr>\n",
       "      <th>16710</th>\n",
       "      <td>Samurai Warriors: Sanada Maru</td>\n",
       "      <td>PS3</td>\n",
       "      <td>2016</td>\n",
       "      <td>Action</td>\n",
       "      <td>0.00</td>\n",
       "      <td>0.00</td>\n",
       "      <td>0.01</td>\n",
       "      <td>0.00</td>\n",
       "      <td>-1</td>\n",
       "      <td>-1.0</td>\n",
       "      <td>no_data</td>\n",
       "      <td>0.01</td>\n",
       "      <td>PS3</td>\n",
       "      <td>PS3</td>\n",
       "      <td>PS3</td>\n",
       "      <td>Action</td>\n",
       "      <td>Action</td>\n",
       "      <td>Action</td>\n",
       "    </tr>\n",
       "    <tr>\n",
       "      <th>16712</th>\n",
       "      <td>Haitaka no Psychedelica</td>\n",
       "      <td>PSV</td>\n",
       "      <td>2016</td>\n",
       "      <td>Adventure</td>\n",
       "      <td>0.00</td>\n",
       "      <td>0.00</td>\n",
       "      <td>0.01</td>\n",
       "      <td>0.00</td>\n",
       "      <td>-1</td>\n",
       "      <td>-1.0</td>\n",
       "      <td>no_data</td>\n",
       "      <td>0.01</td>\n",
       "      <td>Другое</td>\n",
       "      <td>PSV</td>\n",
       "      <td>Другое</td>\n",
       "      <td>Другое</td>\n",
       "      <td>Другое</td>\n",
       "      <td>Другое</td>\n",
       "    </tr>\n",
       "    <tr>\n",
       "      <th>16714</th>\n",
       "      <td>Winning Post 8 2016</td>\n",
       "      <td>PSV</td>\n",
       "      <td>2016</td>\n",
       "      <td>Simulation</td>\n",
       "      <td>0.00</td>\n",
       "      <td>0.00</td>\n",
       "      <td>0.01</td>\n",
       "      <td>0.00</td>\n",
       "      <td>-1</td>\n",
       "      <td>-1.0</td>\n",
       "      <td>no_data</td>\n",
       "      <td>0.01</td>\n",
       "      <td>Другое</td>\n",
       "      <td>PSV</td>\n",
       "      <td>Другое</td>\n",
       "      <td>Другое</td>\n",
       "      <td>Другое</td>\n",
       "      <td>Другое</td>\n",
       "    </tr>\n",
       "  </tbody>\n",
       "</table>\n",
       "<p>2225 rows × 18 columns</p>\n",
       "</div>"
      ],
      "text/plain": [
       "                                name platform  year_of_release         genre  \\\n",
       "16                Grand Theft Auto V      PS3             2013        Action   \n",
       "23                Grand Theft Auto V     X360             2013        Action   \n",
       "31         Call of Duty: Black Ops 3      PS4             2015       Shooter   \n",
       "33               Pokemon X/Pokemon Y      3DS             2013  Role-Playing   \n",
       "42                Grand Theft Auto V      PS4             2014        Action   \n",
       "...                              ...      ...              ...           ...   \n",
       "16703               Strawberry Nauts      PSV             2016     Adventure   \n",
       "16707               Aiyoku no Eustia      PSV             2014          Misc   \n",
       "16710  Samurai Warriors: Sanada Maru      PS3             2016        Action   \n",
       "16712        Haitaka no Psychedelica      PSV             2016     Adventure   \n",
       "16714            Winning Post 8 2016      PSV             2016    Simulation   \n",
       "\n",
       "       na_sales  eu_sales  jp_sales  other_sales  critic_score  user_score  \\\n",
       "16         7.02      9.09      0.98         3.96            97         8.2   \n",
       "23         9.66      5.14      0.06         1.41            97         8.1   \n",
       "31         6.03      5.86      0.36         2.38            -1        -1.0   \n",
       "33         5.28      4.19      4.35         0.78            -1        -1.0   \n",
       "42         3.96      6.31      0.38         1.97            97         8.3   \n",
       "...         ...       ...       ...          ...           ...         ...   \n",
       "16703      0.00      0.00      0.01         0.00            -1        -1.0   \n",
       "16707      0.00      0.00      0.01         0.00            -1        -1.0   \n",
       "16710      0.00      0.00      0.01         0.00            -1        -1.0   \n",
       "16712      0.00      0.00      0.01         0.00            -1        -1.0   \n",
       "16714      0.00      0.00      0.01         0.00            -1        -1.0   \n",
       "\n",
       "        rating  total_sales eu_top_platforms jp_top_platforms  \\\n",
       "16           M        21.05              PS3              PS3   \n",
       "23           M        16.27             X360           Другое   \n",
       "31     no_data        14.63              PS4              PS4   \n",
       "33     no_data        14.60              3DS              3DS   \n",
       "42           M        12.62              PS4              PS4   \n",
       "...        ...          ...              ...              ...   \n",
       "16703  no_data         0.01           Другое              PSV   \n",
       "16707  no_data         0.01           Другое              PSV   \n",
       "16710  no_data         0.01              PS3              PS3   \n",
       "16712  no_data         0.01           Другое              PSV   \n",
       "16714  no_data         0.01           Другое              PSV   \n",
       "\n",
       "      na_top_platforms eu_top_genres jp_top_genres na_top_genres  \n",
       "16                 PS3        Action        Action        Action  \n",
       "23                X360        Action        Action        Action  \n",
       "31                 PS4       Shooter       Shooter       Shooter  \n",
       "33                 3DS  Role-Playing  Role-Playing  Role-Playing  \n",
       "42                 PS4        Action        Action        Action  \n",
       "...                ...           ...           ...           ...  \n",
       "16703           Другое        Другое        Другое        Другое  \n",
       "16707           Другое        Другое          Misc          Misc  \n",
       "16710              PS3        Action        Action        Action  \n",
       "16712           Другое        Другое        Другое        Другое  \n",
       "16714           Другое        Другое        Другое        Другое  \n",
       "\n",
       "[2225 rows x 18 columns]"
      ]
     },
     "execution_count": 49,
     "metadata": {},
     "output_type": "execute_result"
    }
   ],
   "source": [
    "games_actual"
   ]
  },
  {
   "cell_type": "code",
   "execution_count": 50,
   "metadata": {},
   "outputs": [
    {
     "data": {
      "image/png": "[encoded data removed]",
      "text/plain": [
       "<Figure size 1080x1080 with 3 Axes>"
      ]
     },
     "metadata": {},
     "output_type": "display_data"
    }
   ],
   "source": [
    "fig, axs = plt.subplots(nrows= 1, ncols= 3, figsize=(15, 15))\n",
    "col = 0\n",
    "for column in ['na_top_genres', 'eu_top_genres', 'jp_top_genres']:\n",
    "    genres_distribution = games_actual.pivot_table(index=column, values=column.split(\"_\")[0]+'_sales', aggfunc='sum')\n",
    "    axs[col].pie(genres_distribution[column.split(\"_\")[0]+'_sales'], labels=genres_distribution.index, autopct='%1.1f%%', )\n",
    "    axs[col].set_title('Топ-5 жанров в регионе '+column.split(\"_\")[0].upper())\n",
    "    col +=1\n",
    "plt.show()"
   ]
  },
  {
   "cell_type": "markdown",
   "metadata": {},
   "source": [
    "Как и в ситуации с платформами, распределение жанров в Европе и Северной Америке схожи: самые популярные жанры - Action, Shooter. Среди же японских пользователей особой популярностью помимо Action(28.8%) пользуется Role-Playing(36.3%)."
   ]
  },
  {
   "cell_type": "markdown",
   "metadata": {},
   "source": [
    "#### Влияет ли рейтинг ESRB на продажи в отдельном регионе?"
   ]
  },
  {
   "cell_type": "code",
   "execution_count": 51,
   "metadata": {},
   "outputs": [
    {
     "data": {
      "image/png": "[encoded data removed]",
      "text/plain": [
       "<Figure size 720x432 with 1 Axes>"
      ]
     },
     "metadata": {
      "needs_background": "light"
     },
     "output_type": "display_data"
    }
   ],
   "source": [
    "esrb_table = games_actual.pivot_table(index='rating', values=['na_sales', 'eu_sales', 'jp_sales'], aggfunc='sum')\n",
    "esrb_table.columns=['EU', 'JP', 'NA']\n",
    "esrb_table.plot.bar(figsize=(10, 6), width=0.7)\n",
    "plt.xticks(rotation=0)\n",
    "plt.xlabel('ESRB rating')\n",
    "plt.ylabel('Количество продаж')\n",
    "plt.title('Распределение продаж по рейтингу ESRB')\n",
    "plt.show()"
   ]
  },
  {
   "cell_type": "markdown",
   "metadata": {},
   "source": [
    "В Европе и Северной Америке наибольшим спросом пользуются игры, имеющие рейтинг \"M\", за ним следуют игры с рйтингом \"E\", а также игры, не имеющие рейтинга от ESRB. Наименьший спрос наблюдается на игры с рейтингом \"E10+\" и \"T\". <br>\n",
    "В Японии наибольшую популярность имеют игры без рейтинга от ESRB."
   ]
  },
  {
   "cell_type": "markdown",
   "metadata": {},
   "source": [
    "### Проверка гипотез"
   ]
  },
  {
   "cell_type": "markdown",
   "metadata": {},
   "source": [
    "#### Средние пользовательские рейтинги платформ Xbox One и PC одинаковые"
   ]
  },
  {
   "cell_type": "markdown",
   "metadata": {},
   "source": [
    "Для проверки данной гипотезы воспользуемся t-тестом и сравним рейтинги платформ Xbox One и PC.<br>\n",
    "Нулевая гипотеза: средние пользовательские рейтинги платформ Xbox One и PC равны.<br>\n",
    "Альтернативная гипотеза: они не равны."
   ]
  },
  {
   "cell_type": "code",
   "execution_count": 52,
   "metadata": {},
   "outputs": [
    {
     "name": "stdout",
     "output_type": "stream",
     "text": [
      "p-value: 0.140\n",
      "Средняя оценка пользователей платформы XOne: 6.521428571428572\n",
      "Средняя оценка пользователей платформы PC: 6.2696774193548395\n",
      "Не удалось опровергнуть гипотезу о равенстве средних пользовательских рейтингов платформ Xbox One и PC\n"
     ]
    }
   ],
   "source": [
    "alpha = 0.5\n",
    "result = st.ttest_ind(games_actual.query('platform == \"XOne\" and user_score > -1')['user_score'], games_actual.query('platform == \"PC\" and user_score > -1')['user_score'], alternative='two-sided')\n",
    "print(f'p-value: {result.pvalue:.3f}')\n",
    "\n",
    "xone_score_mean = games_actual.query('platform == \"XOne\" and user_score > -1')['user_score'].mean()\n",
    "print(f'Средняя оценка пользователей платформы XOne: {xone_score_mean}')\n",
    "pc_score_mean = games_actual.query('platform == \"PC\" and user_score > -1')['user_score'].mean()\n",
    "print(f'Средняя оценка пользователей платформы PC: {pc_score_mean}')\n",
    "\n",
    "if result.pvalue < 0.05:\n",
    "    print('Нулевая гипотеза отвергается: средние пользовательские рейтинги платформ Xbox One и PC не равны')\n",
    "else: \n",
    "    print('Не удалось опровергнуть гипотезу о равенстве средних пользовательских рейтингов платформ Xbox One и PC')"
   ]
  },
  {
   "cell_type": "markdown",
   "metadata": {},
   "source": [
    "#### Средние пользовательские рейтинги жанров Action и Sports разные"
   ]
  },
  {
   "cell_type": "markdown",
   "metadata": {},
   "source": [
    "Для проверки данной гипотезы воспользуемся t-тестом и сравним рейтинги жанров Action и Sports разные.<br>\n",
    "Нулевая гипотеза: средние пользовательские рейтинги жанров Action и Sports равны.<br>\n",
    "Альтернативная гипотеза: средние пользовательские рейтинги жанров Action и Sports разные."
   ]
  },
  {
   "cell_type": "code",
   "execution_count": 53,
   "metadata": {},
   "outputs": [
    {
     "name": "stdout",
     "output_type": "stream",
     "text": [
      "p-value: 7.102366533466476e-28\n",
      "Средняя оценка пользователей жанра Action: 6.842783505154639\n",
      "Средняя оценка пользователей жанра Sports: 5.238124999999999\n",
      "Нулевая гипотеза отвергается: средние пользовательские рейтинги жанров Action и Sports разные\n"
     ]
    }
   ],
   "source": [
    "alpha = 0.5\n",
    "result = st.ttest_ind(games_actual.query('genre == \"Action\" and user_score > -1')['user_score'], games_actual.query('genre == \"Sports\" and user_score > -1')['user_score'], alternative='two-sided')\n",
    "print(f'p-value: {result.pvalue}')\n",
    "\n",
    "action_score_mean = games_actual.query('genre == \"Action\" and user_score > -1')['user_score'].mean()\n",
    "print(f'Средняя оценка пользователей жанра Action: {action_score_mean}')\n",
    "sports_score_mean = games_actual.query('genre == \"Sports\" and user_score > -1')['user_score'].mean()\n",
    "print(f'Средняя оценка пользователей жанра Sports: {sports_score_mean}')\n",
    "\n",
    "if result.pvalue < 0.05:\n",
    "    print('Нулевая гипотеза отвергается: средние пользовательские рейтинги жанров Action и Sports разные')\n",
    "else: \n",
    "    print('Не удалось опровергнуть гипотезу о равенстве средних пользовательских рейтингов жанров Action и Sports')"
   ]
  },
  {
   "cell_type": "markdown",
   "metadata": {},
   "source": [
    "Для проверки утверждений о одинаковости/разности пользовательских оценок следует формулировать нулевую гипотезу, где предполагается равенство средних двух выборок: выборки, составленной из рейтингов пользователей первой плфтормы/жанра, и выборки, составленной из рейтингов пользователей второй плфтормы/жанра. В качестве альтернативной гипотезы берётся гипотеза об их неравенстве. \n",
    "<br>Для проверки гипотез можно применить статистический двусторонний t-тест, поскольку выборки независимы между собой и количество значений в обоих выборках выше 30."
   ]
  },
  {
   "cell_type": "markdown",
   "metadata": {},
   "source": [
    "### Вывод"
   ]
  },
  {
   "cell_type": "markdown",
   "metadata": {},
   "source": [
    "В ходе выполнения проекта были исследованы продажи интернет-магазина компьютерных игр \"Стримчик\" с целью нахождения закономерностей, определяющих успешность игры. Это позволит определить потенциально популярные игры и построить рекламную кампанию на 2017 год. Из открытых источников доступны исторические данные о продажах игр, оценки пользователей и экспертов, жанры и платформы - они представлены в файле `games.csv`.\n",
    "\n",
    "При предобработке данных названия столбцов были переведены в нижний регистр. \n",
    "\n",
    "Обработаны пропуски в таблице:\n",
    "- Строки с пропусками в столбцах 'year_of_release' и 'name' были удалены\n",
    "- Пропуски в столбцах 'user_score', 'critic_score' были заменены на -1\n",
    "- Пропуски в столбце 'rating' заменены на 'na_data'\n",
    "- Значения tbd в столбце 'user_score' заменены на -1\n",
    "\n",
    "Пропуски в столбцах 'name', 'year_of_release' и 'platform' могли возникнуть из-за ошибки в заполнении данных. В 'rating' пропуски имеют игры, выпущенные не в Северной Америке, поскольку ESRB - рейтинг для США и Канады.\n",
    "\n",
    "Явных дубликатов не обнаружно. Удалены строки с одинаковыми занчениями в столбцах 'name', 'year_of_rlease' и 'platform'.\n",
    "\n",
    "Изменены типы данных в следующих столбцах:\n",
    "- Типы данных в столбцах 'year_of_release' и 'critic_score' заменены на int\n",
    "- Тип столбца 'user_score' заменен на вещественный\n",
    "- Данные о суммарных продажах были записаны в отдельный столбец 'total_sales'.\n",
    "\n",
    "Во время предобработки было удавлено не более 2% от всех данных.\n",
    "\n",
    "В ходе исследовательского анализа выявлено, что в среднем на каждой платформе новые игры выпускаются и продаются в течение 10 лет после создания платформы. \n",
    "\n",
    "В качестве актуального периода выбран 2013-2016 годы. Платформы с наибольшими суммарными продажами за данный период:\n",
    "PS4, PS3, XOne, 3DS, X360, WiiU, PC, PSV, Wii, PSP. Среди платформ лидируют PS4 и Xbox One. У всех платформ, кроме PS4 и Xbox One, начиная с 2013 года наблюдается постепенное снижение продаж. У PS4 и XOne продажи росли до 2015 года, про 2016 год трудно ответить, поскольку данные за этот год могут быть неполными. Потенциально прибыльными можно посчитать платформы PS4 и XOne.\n",
    "\n",
    "Игры, выпущенные на платформах X360, PS4, Wii и XOne имеют наибольшие медианные значения количества глобальных продаж и наибольший межквартильный размах. Это значит, игра, выпущенная на одной из этих платформ, скорее всего будет иметь большее количество продаж по миру, чем игра, выпущенная на другой платформе. А наиболее \"выстрелившие\" игры за актуальный период были выпущены на платформах PS3, 3DS, X360 и PS4.\n",
    "\n",
    "Изучена взаимосвязь между продажами игры и оценками пользователей и критиков на примере PS4:\n",
    "- Cвязи между продажами игры и оценками пользователей не наблюдается\n",
    "- Между продажами игры и оценками критиков наблюдается слабая связь. Можно отметить, что игры, у которых было продано более 2 миллионов копий, обычно имеют оценку критиков не менее 70 баллов из 100, но не наоборот. Также можно заметить, что у игр, получивших менее 50 баллов от критиков, количество продаж заметно меньше 1 миллиона.\n",
    "Аналогичные наблюдения можно сделать и для других платформ.\n",
    "\n",
    "Максимальные продажи имеют игры жанра 'Action', 'Role-Playing' и 'Shooter', однако наиболее стабильный спрос наблюдается на игры жанра 'Shooter', 'Sports', 'Platform': медианные продажи игр из этих жанров выше остальных. Значит, доход от игр жанров 'Shooter', 'Sports', 'Platform' стабильнее, чем от игр жанров 'Action', 'Role-Playing'.\n",
    "\n",
    "Определены самые популярные плафтормы и жанры игр для каждого региона (Европа, Северная Америка и Япония):\n",
    "- Топ-5 платформ в Северной Америке и Европе совпадают (PS4, PS3, XOne, X360, 3DS) и в обоих регионах самой популярной платформой явялется PS4. Распределение платформ в Японии принципиально отчается: самой популярной здесь является 3DS, почти половина (48.2%) купленных там игр было выпущено на этой платформе. В относительно равных долях за ней следуют PS3, PS4 и PSV.\n",
    "- Как и в ситуации с платформами, распределение жанров в Европе и Северной Америке схожи: самые популярные жанры - Action, Shooter. Среди же японских пользователей особой популярностью помимо Action(28.8%) пользуется Role-Playing(36.3%).\n",
    "\n",
    "В Европе и Северной Америке наибольшим спросом пользуются игры, имеющие рейтинг \"M\", за ним следуют игры с рйтингом \"E\", а также игры, не имеющие рейтинга от ESRB. Наименьший спрос наблюдается на игры с рейтингом \"E10+\" и \"T\".\n",
    "В Японии наибольшую популярность имеют игры без рейтинга от ESRB.\n",
    "\n",
    "Проверены гипотезы, относительно средних пользовательских рейтингов:\n",
    "1. Средние пользовательские рейтинги платформ Xbox One и PC одинаковые: <br> \n",
    "При использовании t-теста выявлено, что рейтинги платформ достаточно близки, чтобы гипотезу о равенстве средних пользовательских рейтингов платформ Xbox One и PC не удалось опровергнуть.\n",
    "2. Средние пользовательские рейтинги жанров Action и Sports разные:<br>\n",
    "При использовании t-теста нулевая гипотеза о равенстве средних пользовательских рейтингов жанров Action и Sports была отвергнута, средние пользовательские рейтинги жанров Action и Sports разные.\n",
    "\n",
    "При организации рекламной кампании на 2017 год рекомендуется обратить внимание на следующие игры:\n",
    "- Игры, выпущенные на платформах PS4 и Xbox One\n",
    "- Игры жанра 'Shooter', 'Sports'\n",
    "- Для Северной Америки и Европы - игры с рейтингом \"M\" и \"E\". Для Японии - игры, не имеющие рейтинга от ESRB\n",
    "\n",
    "Оценку от пользователей учитывать не следует, а в случае оценок критиков важно, чтобы у игр они не были слишком низкие (50 баллов и меньше)."
   ]
  }
 ],
 "metadata": {
  "ExecuteTimeLog": [
   {
    "duration": 1477,
    "start_time": "2024-05-15T08:58:41.461Z"
   },
   {
    "duration": 135,
    "start_time": "2024-05-15T08:58:42.940Z"
   },
   {
    "duration": 0,
    "start_time": "2024-05-15T08:58:43.078Z"
   },
   {
    "duration": 0,
    "start_time": "2024-05-15T08:58:43.080Z"
   },
   {
    "duration": 0,
    "start_time": "2024-05-15T08:58:43.082Z"
   },
   {
    "duration": 0,
    "start_time": "2024-05-15T08:58:43.083Z"
   },
   {
    "duration": 0,
    "start_time": "2024-05-15T08:58:43.085Z"
   },
   {
    "duration": 0,
    "start_time": "2024-05-15T08:58:43.087Z"
   },
   {
    "duration": 0,
    "start_time": "2024-05-15T08:58:43.088Z"
   },
   {
    "duration": 0,
    "start_time": "2024-05-15T08:58:43.090Z"
   },
   {
    "duration": 0,
    "start_time": "2024-05-15T08:58:43.092Z"
   },
   {
    "duration": 0,
    "start_time": "2024-05-15T08:58:43.093Z"
   },
   {
    "duration": 0,
    "start_time": "2024-05-15T08:58:43.095Z"
   },
   {
    "duration": 0,
    "start_time": "2024-05-15T08:58:43.096Z"
   },
   {
    "duration": 0,
    "start_time": "2024-05-15T08:58:43.097Z"
   },
   {
    "duration": 0,
    "start_time": "2024-05-15T08:58:43.099Z"
   },
   {
    "duration": 0,
    "start_time": "2024-05-15T08:58:43.101Z"
   },
   {
    "duration": 0,
    "start_time": "2024-05-15T08:58:43.102Z"
   },
   {
    "duration": 0,
    "start_time": "2024-05-15T08:58:43.103Z"
   },
   {
    "duration": 0,
    "start_time": "2024-05-15T08:58:43.105Z"
   },
   {
    "duration": 0,
    "start_time": "2024-05-15T08:58:43.106Z"
   },
   {
    "duration": 0,
    "start_time": "2024-05-15T08:58:43.107Z"
   },
   {
    "duration": 0,
    "start_time": "2024-05-15T08:58:43.109Z"
   },
   {
    "duration": 0,
    "start_time": "2024-05-15T08:58:43.110Z"
   },
   {
    "duration": 0,
    "start_time": "2024-05-15T08:58:43.111Z"
   },
   {
    "duration": 0,
    "start_time": "2024-05-15T08:58:43.112Z"
   },
   {
    "duration": 0,
    "start_time": "2024-05-15T08:58:43.112Z"
   },
   {
    "duration": 0,
    "start_time": "2024-05-15T08:58:43.114Z"
   },
   {
    "duration": 0,
    "start_time": "2024-05-15T08:58:43.115Z"
   },
   {
    "duration": 0,
    "start_time": "2024-05-15T08:58:43.173Z"
   },
   {
    "duration": 0,
    "start_time": "2024-05-15T08:58:43.174Z"
   },
   {
    "duration": 0,
    "start_time": "2024-05-15T08:58:43.175Z"
   },
   {
    "duration": 0,
    "start_time": "2024-05-15T08:58:43.176Z"
   },
   {
    "duration": 0,
    "start_time": "2024-05-15T08:58:43.177Z"
   },
   {
    "duration": 0,
    "start_time": "2024-05-15T08:58:43.178Z"
   },
   {
    "duration": 0,
    "start_time": "2024-05-15T08:58:43.179Z"
   },
   {
    "duration": 0,
    "start_time": "2024-05-15T08:58:43.179Z"
   },
   {
    "duration": 0,
    "start_time": "2024-05-15T08:58:43.181Z"
   },
   {
    "duration": 0,
    "start_time": "2024-05-15T08:58:43.182Z"
   },
   {
    "duration": 0,
    "start_time": "2024-05-15T08:58:43.183Z"
   },
   {
    "duration": 0,
    "start_time": "2024-05-15T08:58:43.185Z"
   },
   {
    "duration": 0,
    "start_time": "2024-05-15T08:58:43.186Z"
   },
   {
    "duration": 0,
    "start_time": "2024-05-15T08:58:43.187Z"
   },
   {
    "duration": 0,
    "start_time": "2024-05-15T08:58:43.188Z"
   },
   {
    "duration": 1447,
    "start_time": "2024-05-15T10:28:37.691Z"
   },
   {
    "duration": 219,
    "start_time": "2024-05-15T10:28:43.490Z"
   },
   {
    "duration": 1248,
    "start_time": "2024-05-15T10:33:32.654Z"
   },
   {
    "duration": 75,
    "start_time": "2024-05-15T10:33:33.904Z"
   },
   {
    "duration": 59,
    "start_time": "2024-05-15T10:33:33.981Z"
   },
   {
    "duration": 32,
    "start_time": "2024-05-15T10:33:34.043Z"
   },
   {
    "duration": 6,
    "start_time": "2024-05-15T10:33:34.077Z"
   },
   {
    "duration": 45,
    "start_time": "2024-05-15T10:33:34.085Z"
   },
   {
    "duration": 57,
    "start_time": "2024-05-15T10:33:34.132Z"
   },
   {
    "duration": 16,
    "start_time": "2024-05-15T10:33:34.192Z"
   },
   {
    "duration": 35,
    "start_time": "2024-05-15T10:33:34.210Z"
   },
   {
    "duration": 24,
    "start_time": "2024-05-15T10:33:34.248Z"
   },
   {
    "duration": 41,
    "start_time": "2024-05-15T10:33:34.274Z"
   },
   {
    "duration": 21,
    "start_time": "2024-05-15T10:33:34.317Z"
   },
   {
    "duration": 41,
    "start_time": "2024-05-15T10:33:34.340Z"
   },
   {
    "duration": 29,
    "start_time": "2024-05-15T10:33:34.383Z"
   },
   {
    "duration": 16,
    "start_time": "2024-05-15T10:33:34.414Z"
   },
   {
    "duration": 10,
    "start_time": "2024-05-15T10:33:34.432Z"
   },
   {
    "duration": 363,
    "start_time": "2024-05-15T10:33:34.443Z"
   },
   {
    "duration": 637,
    "start_time": "2024-05-15T10:33:34.808Z"
   },
   {
    "duration": 7,
    "start_time": "2024-05-15T10:33:35.448Z"
   },
   {
    "duration": 25,
    "start_time": "2024-05-15T10:33:35.457Z"
   },
   {
    "duration": 26,
    "start_time": "2024-05-15T10:33:35.484Z"
   },
   {
    "duration": 374,
    "start_time": "2024-05-15T10:33:35.512Z"
   },
   {
    "duration": 320,
    "start_time": "2024-05-15T10:33:35.888Z"
   },
   {
    "duration": 166,
    "start_time": "2024-05-15T10:33:36.209Z"
   },
   {
    "duration": 10,
    "start_time": "2024-05-15T10:33:36.376Z"
   },
   {
    "duration": 237,
    "start_time": "2024-05-15T10:33:36.388Z"
   },
   {
    "duration": 10,
    "start_time": "2024-05-15T10:33:36.627Z"
   },
   {
    "duration": 966,
    "start_time": "2024-05-15T10:33:36.642Z"
   },
   {
    "duration": 292,
    "start_time": "2024-05-15T10:33:37.610Z"
   },
   {
    "duration": 308,
    "start_time": "2024-05-15T10:33:37.904Z"
   },
   {
    "duration": 4,
    "start_time": "2024-05-15T10:33:38.214Z"
   },
   {
    "duration": 70,
    "start_time": "2024-05-15T10:33:38.219Z"
   },
   {
    "duration": 5,
    "start_time": "2024-05-15T10:33:38.291Z"
   },
   {
    "duration": 104,
    "start_time": "2024-05-15T10:33:38.298Z"
   },
   {
    "duration": 26,
    "start_time": "2024-05-15T10:33:38.404Z"
   },
   {
    "duration": 349,
    "start_time": "2024-05-15T10:33:38.432Z"
   },
   {
    "duration": 4,
    "start_time": "2024-05-15T10:33:38.783Z"
   },
   {
    "duration": 45,
    "start_time": "2024-05-15T10:33:38.788Z"
   },
   {
    "duration": 23,
    "start_time": "2024-05-15T10:33:38.835Z"
   },
   {
    "duration": 97,
    "start_time": "2024-05-15T10:33:38.860Z"
   },
   {
    "duration": 28,
    "start_time": "2024-05-15T10:33:38.959Z"
   },
   {
    "duration": 405,
    "start_time": "2024-05-15T10:33:38.988Z"
   },
   {
    "duration": 205,
    "start_time": "2024-05-15T10:33:39.394Z"
   },
   {
    "duration": 17,
    "start_time": "2024-05-15T10:33:39.601Z"
   },
   {
    "duration": 40,
    "start_time": "2024-05-15T10:33:39.620Z"
   },
   {
    "duration": 1240,
    "start_time": "2024-05-15T10:35:03.074Z"
   },
   {
    "duration": 2,
    "start_time": "2024-05-15T10:35:04.316Z"
   },
   {
    "duration": 101,
    "start_time": "2024-05-15T10:35:04.320Z"
   },
   {
    "duration": 16,
    "start_time": "2024-05-15T10:35:04.423Z"
   },
   {
    "duration": 80,
    "start_time": "2024-05-15T10:35:04.440Z"
   },
   {
    "duration": 43,
    "start_time": "2024-05-15T10:35:04.521Z"
   },
   {
    "duration": 50,
    "start_time": "2024-05-15T10:35:04.566Z"
   },
   {
    "duration": 91,
    "start_time": "2024-05-15T10:35:04.618Z"
   },
   {
    "duration": 34,
    "start_time": "2024-05-15T10:35:04.710Z"
   },
   {
    "duration": 38,
    "start_time": "2024-05-15T10:35:04.746Z"
   },
   {
    "duration": 40,
    "start_time": "2024-05-15T10:35:04.786Z"
   },
   {
    "duration": 49,
    "start_time": "2024-05-15T10:35:04.828Z"
   },
   {
    "duration": 29,
    "start_time": "2024-05-15T10:35:04.878Z"
   },
   {
    "duration": 25,
    "start_time": "2024-05-15T10:35:04.909Z"
   },
   {
    "duration": 24,
    "start_time": "2024-05-15T10:35:04.936Z"
   },
   {
    "duration": 4,
    "start_time": "2024-05-15T10:35:04.962Z"
   },
   {
    "duration": 358,
    "start_time": "2024-05-15T10:35:04.968Z"
   },
   {
    "duration": 613,
    "start_time": "2024-05-15T10:35:05.328Z"
   },
   {
    "duration": 6,
    "start_time": "2024-05-15T10:35:05.943Z"
   },
   {
    "duration": 33,
    "start_time": "2024-05-15T10:35:05.951Z"
   },
   {
    "duration": 88,
    "start_time": "2024-05-15T10:35:05.986Z"
   },
   {
    "duration": 406,
    "start_time": "2024-05-15T10:35:06.075Z"
   },
   {
    "duration": 311,
    "start_time": "2024-05-15T10:35:06.483Z"
   },
   {
    "duration": 192,
    "start_time": "2024-05-15T10:35:06.795Z"
   },
   {
    "duration": 14,
    "start_time": "2024-05-15T10:35:06.989Z"
   },
   {
    "duration": 298,
    "start_time": "2024-05-15T10:35:07.004Z"
   },
   {
    "duration": 9,
    "start_time": "2024-05-15T10:35:07.304Z"
   },
   {
    "duration": 964,
    "start_time": "2024-05-15T10:35:07.317Z"
   },
   {
    "duration": 305,
    "start_time": "2024-05-15T10:35:08.282Z"
   },
   {
    "duration": 294,
    "start_time": "2024-05-15T10:35:08.588Z"
   },
   {
    "duration": 3,
    "start_time": "2024-05-15T10:35:08.884Z"
   },
   {
    "duration": 66,
    "start_time": "2024-05-15T10:35:08.889Z"
   },
   {
    "duration": 34,
    "start_time": "2024-05-15T10:35:08.957Z"
   },
   {
    "duration": 75,
    "start_time": "2024-05-15T10:35:08.993Z"
   },
   {
    "duration": 25,
    "start_time": "2024-05-15T10:35:09.070Z"
   },
   {
    "duration": 323,
    "start_time": "2024-05-15T10:35:09.097Z"
   },
   {
    "duration": 3,
    "start_time": "2024-05-15T10:35:09.422Z"
   },
   {
    "duration": 33,
    "start_time": "2024-05-15T10:35:09.427Z"
   },
   {
    "duration": 4,
    "start_time": "2024-05-15T10:35:09.462Z"
   },
   {
    "duration": 63,
    "start_time": "2024-05-15T10:35:09.473Z"
   },
   {
    "duration": 45,
    "start_time": "2024-05-15T10:35:09.538Z"
   },
   {
    "duration": 423,
    "start_time": "2024-05-15T10:35:09.585Z"
   },
   {
    "duration": 215,
    "start_time": "2024-05-15T10:35:10.010Z"
   },
   {
    "duration": 17,
    "start_time": "2024-05-15T10:35:10.226Z"
   },
   {
    "duration": 43,
    "start_time": "2024-05-15T10:35:10.245Z"
   },
   {
    "duration": 345,
    "start_time": "2024-05-15T10:37:06.683Z"
   },
   {
    "duration": 319,
    "start_time": "2024-05-15T10:39:02.426Z"
   },
   {
    "duration": 357,
    "start_time": "2024-05-15T10:39:09.167Z"
   },
   {
    "duration": 321,
    "start_time": "2024-05-15T10:39:16.553Z"
   },
   {
    "duration": 422,
    "start_time": "2024-05-15T10:39:20.922Z"
   },
   {
    "duration": 113,
    "start_time": "2024-05-15T10:40:27.987Z"
   },
   {
    "duration": 326,
    "start_time": "2024-05-15T10:40:42.450Z"
   },
   {
    "duration": 338,
    "start_time": "2024-05-15T10:40:57.890Z"
   },
   {
    "duration": 19,
    "start_time": "2024-05-15T10:42:12.483Z"
   },
   {
    "duration": 332,
    "start_time": "2024-05-15T10:43:06.354Z"
   },
   {
    "duration": 401,
    "start_time": "2024-05-15T10:43:25.329Z"
   },
   {
    "duration": 1255,
    "start_time": "2024-05-15T22:54:46.959Z"
   },
   {
    "duration": 2,
    "start_time": "2024-05-15T22:54:48.216Z"
   },
   {
    "duration": 90,
    "start_time": "2024-05-15T22:54:48.220Z"
   },
   {
    "duration": 16,
    "start_time": "2024-05-15T22:54:48.312Z"
   },
   {
    "duration": 10,
    "start_time": "2024-05-15T22:54:48.331Z"
   },
   {
    "duration": 31,
    "start_time": "2024-05-15T22:54:48.343Z"
   },
   {
    "duration": 23,
    "start_time": "2024-05-15T22:54:48.375Z"
   },
   {
    "duration": 9,
    "start_time": "2024-05-15T22:54:48.399Z"
   },
   {
    "duration": 16,
    "start_time": "2024-05-15T22:54:48.410Z"
   },
   {
    "duration": 8,
    "start_time": "2024-05-15T22:54:48.427Z"
   },
   {
    "duration": 21,
    "start_time": "2024-05-15T22:54:48.437Z"
   },
   {
    "duration": 23,
    "start_time": "2024-05-15T22:54:48.460Z"
   },
   {
    "duration": 15,
    "start_time": "2024-05-15T22:54:48.484Z"
   },
   {
    "duration": 14,
    "start_time": "2024-05-15T22:54:48.502Z"
   },
   {
    "duration": 19,
    "start_time": "2024-05-15T22:54:48.518Z"
   },
   {
    "duration": 34,
    "start_time": "2024-05-15T22:54:48.539Z"
   },
   {
    "duration": 351,
    "start_time": "2024-05-15T22:54:48.574Z"
   },
   {
    "duration": 570,
    "start_time": "2024-05-15T22:54:48.926Z"
   },
   {
    "duration": 6,
    "start_time": "2024-05-15T22:54:49.497Z"
   },
   {
    "duration": 28,
    "start_time": "2024-05-15T22:54:49.504Z"
   },
   {
    "duration": 5,
    "start_time": "2024-05-15T22:54:49.534Z"
   },
   {
    "duration": 344,
    "start_time": "2024-05-15T22:54:49.540Z"
   },
   {
    "duration": 295,
    "start_time": "2024-05-15T22:54:49.886Z"
   },
   {
    "duration": 157,
    "start_time": "2024-05-15T22:54:50.182Z"
   },
   {
    "duration": 8,
    "start_time": "2024-05-15T22:54:50.341Z"
   },
   {
    "duration": 223,
    "start_time": "2024-05-15T22:54:50.351Z"
   },
   {
    "duration": 9,
    "start_time": "2024-05-15T22:54:50.575Z"
   },
   {
    "duration": 898,
    "start_time": "2024-05-15T22:54:50.586Z"
   },
   {
    "duration": 282,
    "start_time": "2024-05-15T22:54:51.485Z"
   },
   {
    "duration": 299,
    "start_time": "2024-05-15T22:54:51.768Z"
   },
   {
    "duration": 4,
    "start_time": "2024-05-15T22:54:52.072Z"
   },
   {
    "duration": 47,
    "start_time": "2024-05-15T22:54:52.077Z"
   },
   {
    "duration": 9,
    "start_time": "2024-05-15T22:54:52.126Z"
   },
   {
    "duration": 99,
    "start_time": "2024-05-15T22:54:52.136Z"
   },
   {
    "duration": 26,
    "start_time": "2024-05-15T22:54:52.236Z"
   },
   {
    "duration": 318,
    "start_time": "2024-05-15T22:54:52.264Z"
   },
   {
    "duration": 4,
    "start_time": "2024-05-15T22:54:52.584Z"
   },
   {
    "duration": 47,
    "start_time": "2024-05-15T22:54:52.589Z"
   },
   {
    "duration": 5,
    "start_time": "2024-05-15T22:54:52.637Z"
   },
   {
    "duration": 73,
    "start_time": "2024-05-15T22:54:52.644Z"
   },
   {
    "duration": 33,
    "start_time": "2024-05-15T22:54:52.721Z"
   },
   {
    "duration": 430,
    "start_time": "2024-05-15T22:54:52.756Z"
   },
   {
    "duration": 194,
    "start_time": "2024-05-15T22:54:53.188Z"
   },
   {
    "duration": 17,
    "start_time": "2024-05-15T22:54:53.383Z"
   },
   {
    "duration": 92,
    "start_time": "2024-05-15T22:54:53.402Z"
   },
   {
    "duration": 175,
    "start_time": "2024-05-15T23:06:58.875Z"
   },
   {
    "duration": 37,
    "start_time": "2024-05-15T23:07:14.933Z"
   },
   {
    "duration": 28,
    "start_time": "2024-05-15T23:13:27.025Z"
   },
   {
    "duration": 1217,
    "start_time": "2024-05-16T20:20:57.584Z"
   },
   {
    "duration": 2,
    "start_time": "2024-05-16T20:20:58.803Z"
   },
   {
    "duration": 81,
    "start_time": "2024-05-16T20:20:58.807Z"
   },
   {
    "duration": 15,
    "start_time": "2024-05-16T20:20:58.890Z"
   },
   {
    "duration": 3,
    "start_time": "2024-05-16T20:20:58.908Z"
   },
   {
    "duration": 16,
    "start_time": "2024-05-16T20:20:58.913Z"
   },
   {
    "duration": 38,
    "start_time": "2024-05-16T20:20:58.930Z"
   },
   {
    "duration": 22,
    "start_time": "2024-05-16T20:20:58.970Z"
   },
   {
    "duration": 10,
    "start_time": "2024-05-16T20:20:58.993Z"
   },
   {
    "duration": 22,
    "start_time": "2024-05-16T20:20:59.004Z"
   },
   {
    "duration": 35,
    "start_time": "2024-05-16T20:20:59.028Z"
   },
   {
    "duration": 18,
    "start_time": "2024-05-16T20:20:59.065Z"
   },
   {
    "duration": 10,
    "start_time": "2024-05-16T20:20:59.085Z"
   },
   {
    "duration": 14,
    "start_time": "2024-05-16T20:20:59.098Z"
   },
   {
    "duration": 6,
    "start_time": "2024-05-16T20:20:59.113Z"
   },
   {
    "duration": 39,
    "start_time": "2024-05-16T20:20:59.120Z"
   },
   {
    "duration": 14,
    "start_time": "2024-05-16T20:20:59.161Z"
   },
   {
    "duration": 12,
    "start_time": "2024-05-16T20:20:59.176Z"
   },
   {
    "duration": 15,
    "start_time": "2024-05-16T20:20:59.189Z"
   },
   {
    "duration": 15,
    "start_time": "2024-05-16T20:20:59.205Z"
   },
   {
    "duration": 65,
    "start_time": "2024-05-16T20:20:59.222Z"
   },
   {
    "duration": 42,
    "start_time": "2024-05-16T20:20:59.288Z"
   },
   {
    "duration": 368,
    "start_time": "2024-05-16T20:20:59.332Z"
   },
   {
    "duration": 1131,
    "start_time": "2024-05-16T20:20:59.702Z"
   },
   {
    "duration": 41,
    "start_time": "2024-05-16T20:21:00.834Z"
   },
   {
    "duration": 62,
    "start_time": "2024-05-16T20:21:00.877Z"
   },
   {
    "duration": 73,
    "start_time": "2024-05-16T20:21:00.941Z"
   },
   {
    "duration": 52,
    "start_time": "2024-05-16T20:21:01.015Z"
   },
   {
    "duration": 407,
    "start_time": "2024-05-16T20:21:01.068Z"
   },
   {
    "duration": 637,
    "start_time": "2024-05-16T20:21:01.476Z"
   },
   {
    "duration": 168,
    "start_time": "2024-05-16T20:21:02.114Z"
   },
   {
    "duration": 11,
    "start_time": "2024-05-16T20:21:02.284Z"
   },
   {
    "duration": 204,
    "start_time": "2024-05-16T20:21:02.296Z"
   },
   {
    "duration": 11,
    "start_time": "2024-05-16T20:21:02.502Z"
   },
   {
    "duration": 932,
    "start_time": "2024-05-16T20:21:02.515Z"
   },
   {
    "duration": 313,
    "start_time": "2024-05-16T20:21:03.449Z"
   },
   {
    "duration": 372,
    "start_time": "2024-05-16T20:21:03.764Z"
   },
   {
    "duration": 596,
    "start_time": "2024-05-16T20:21:04.139Z"
   },
   {
    "duration": 4,
    "start_time": "2024-05-16T20:21:04.737Z"
   },
   {
    "duration": 33,
    "start_time": "2024-05-16T20:21:04.743Z"
   },
   {
    "duration": 5,
    "start_time": "2024-05-16T20:21:04.781Z"
   },
   {
    "duration": 81,
    "start_time": "2024-05-16T20:21:04.787Z"
   },
   {
    "duration": 25,
    "start_time": "2024-05-16T20:21:04.870Z"
   },
   {
    "duration": 326,
    "start_time": "2024-05-16T20:21:04.896Z"
   },
   {
    "duration": 3,
    "start_time": "2024-05-16T20:21:05.224Z"
   },
   {
    "duration": 82,
    "start_time": "2024-05-16T20:21:05.228Z"
   },
   {
    "duration": 4,
    "start_time": "2024-05-16T20:21:05.311Z"
   },
   {
    "duration": 80,
    "start_time": "2024-05-16T20:21:05.316Z"
   },
   {
    "duration": 26,
    "start_time": "2024-05-16T20:21:05.398Z"
   },
   {
    "duration": 341,
    "start_time": "2024-05-16T20:21:05.426Z"
   },
   {
    "duration": 229,
    "start_time": "2024-05-16T20:21:05.769Z"
   },
   {
    "duration": 18,
    "start_time": "2024-05-16T20:21:06.000Z"
   },
   {
    "duration": 40,
    "start_time": "2024-05-16T20:21:06.020Z"
   }
  ],
  "kernelspec": {
   "display_name": "Python 3 (ipykernel)",
   "language": "python",
   "name": "python3"
  },
  "language_info": {
   "codemirror_mode": {
    "name": "ipython",
    "version": 3
   },
   "file_extension": ".py",
   "mimetype": "text/x-python",
   "name": "python",
   "nbconvert_exporter": "python",
   "pygments_lexer": "ipython3",
   "version": "3.11.5"
  },
  "toc": {
   "base_numbering": 1,
   "nav_menu": {},
   "number_sections": true,
   "sideBar": true,
   "skip_h1_title": true,
   "title_cell": "Table of Contents",
   "title_sidebar": "Contents",
   "toc_cell": false,
   "toc_position": {
    "height": "calc(100% - 180px)",
    "left": "10px",
    "top": "150px",
    "width": "237.951px"
   },
   "toc_section_display": true,
   "toc_window_display": true
  },
  "varInspector": {
   "cols": {
    "lenName": 16,
    "lenType": 16,
    "lenVar": 40
   },
   "kernels_config": {
    "python": {
     "delete_cmd_postfix": "",
     "delete_cmd_prefix": "del ",
     "library": "var_list.py",
     "varRefreshCmd": "print(var_dic_list())"
    },
    "r": {
     "delete_cmd_postfix": ") ",
     "delete_cmd_prefix": "rm(",
     "library": "var_list.r",
     "varRefreshCmd": "cat(var_dic_list()) "
    }
   },
   "types_to_exclude": [
    "module",
    "function",
    "builtin_function_or_method",
    "instance",
    "_Feature"
   ],
   "window_display": false
  }
 },
 "nbformat": 4,
 "nbformat_minor": 2
}
